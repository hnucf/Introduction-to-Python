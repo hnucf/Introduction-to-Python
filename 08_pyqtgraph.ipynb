{
 "cells": [
  {
   "cell_type": "markdown",
   "metadata": {
    "collapsed": true,
    "pycharm": {
     "name": "#%% md\n"
    }
   },
   "source": [
    "## PyQtGraph\n",
    "\n",
    "PyQtGraph是Python的一个图形和用户界面库，主要用于工程和科学领域中数据可视化和图片处理等方面，其中一个重要的功能是提供了非常快速的交互式图形用以数据（图形，视频等）的可视化。"
   ]
  },
  {
   "cell_type": "markdown",
   "metadata": {},
   "source": [
    "### 交互功能\n",
    "\n",
    "PyqtGraph提供了强大的交互式图形功能，所有的交互式功能都可用鼠标控制。在不同的图形中，鼠标各个键的功能不一样。\n",
    "\n",
    "#### 2D图形\n",
    "\n",
    "* 鼠标左键：与图形中的元素进行交互（选择或者移动对象等）。如果鼠标光标下没有可移动对象，则用左键拖动将平移图形\n",
    "* 右键拖动：缩放图形。水平左右拖动来控制左右缩放比例。垂直向上/向下拖动控制上下缩放比例\n",
    "* 右键单击：在大多数情况下，单击右键将显示一个功能菜单，其中包含多个选项，具体取决于鼠标光标下的对象\n",
    "* 中间按钮（或滚轮）拖动：按住滚轮的同时拖动鼠标将平移图形（在左键不能平移图形时可用滚轮平移）\n",
    "* 滚轮旋转：放大和缩小图形\n",
    "\n",
    "#### 功能菜单\n",
    "\n",
    "一般情况下，右击鼠标在图形上会出现一个功能菜单。部分的选项包括：\n",
    "\n",
    "* 在数据范围发生改变时可以启用或者禁用自动缩放\n",
    "* 将多个视图的轴链接在一起\n",
    "* 可以启用或者禁用每个轴的鼠标交互\n",
    "* 设置坐标的起始和终止值\n",
    "\n",
    "#### 3D图形\n",
    "\n",
    "* 左键拖动：围绕中心点旋转图形\n",
    "* 中间按钮拖动：沿XY平面平移整个图形，不可沿Z轴平移\n",
    "* 中键拖动 + CTRL：在3D空间平移场景\n",
    "* 旋转滚轮：放大/缩小\n",
    "* 滚轮 + CTRL：更改视角"
   ]
  },
  {
   "cell_type": "markdown",
   "metadata": {
    "pycharm": {
     "name": "#%% md\n"
    }
   },
   "source": [
    "### 绘图\n",
    "\n",
    "PyqtGraph提供了四种基本的绘图方式：pyqtgraph.plot()、PlotWidget.plot()、PlotItem.plot()、GraphicsLayout.plot()。\n",
    "\n",
    "* pyqtgraph.plot(): 创建一个新的窗口来显示数据\n",
    "* PlotWidget.plot()： 在已有的窗口添加一个新的图形\n",
    "* PlotItem.plot()： 在已有的窗口添加一个新的图形\n",
    "* GraphicsLayout.plot()： 添加新的图形到画图网格上，用于在一个画图板上创建多个子图\n",
    "\n",
    "四种方法所接受的基本参数：\n",
    "\n",
    "* x-坐标X数据。如果未指定，将使用连续的整数\n",
    "* y-坐标Y数据\n",
    "* pen-画线条时使用的笔。设置为None时表示禁用线条\n",
    "* symbol-用于指定数据点所使用的标记类型（如正方形、圆形、三角等）\n",
    "* symbolPen-绘制标记轮廓时要使用的笔\n",
    "* symbolBrush-填充标记时要使用的画笔\n",
    "* fillLevel-填充绘图曲线下的区域\n",
    "* brush-在曲线下方填充时使用的笔刷"
   ]
  },
  {
   "cell_type": "markdown",
   "metadata": {
    "pycharm": {
     "name": "#%% md\n"
    }
   },
   "source": [
    "#### pyqtgraph.plot()\n",
    "\n",
    "创建一个新的窗口来显示数据。"
   ]
  },
  {
   "cell_type": "code",
   "execution_count": null,
   "metadata": {
    "pycharm": {
     "name": "#%%\n"
    }
   },
   "outputs": [],
   "source": [
    "%gui qt\n",
    "\n",
    "import pyqtgraph as pg\n",
    "import numpy as np\n",
    "x = np.random.normal(size=1000)\n",
    "y = np.random.normal(size=1000)\n",
    "pg.plot(x, y, pen=None, symbol='o')"
   ]
  },
  {
   "cell_type": "code",
   "execution_count": null,
   "metadata": {
    "pycharm": {
     "name": "#%%\n"
    }
   },
   "outputs": [],
   "source": [
    "pg.plot(np.random.normal(size=100), pen=(255,0,0), name=\"Red curve\")"
   ]
  },
  {
   "cell_type": "markdown",
   "metadata": {},
   "source": [
    "#### PlotWidget.plot()\n",
    "\n",
    "在已有的窗口添加一个新的图形。\n",
    "\n",
    "<img src=\"./img/pyqtgraph_widget.png\"/>"
   ]
  },
  {
   "cell_type": "code",
   "execution_count": null,
   "metadata": {
    "pycharm": {
     "name": "#%%\n"
    }
   },
   "outputs": [],
   "source": [
    "import pyqtgraph as pg\n",
    "import numpy as np\n",
    "\n",
    "x = np.cos(np.linspace(0, 2*np.pi, 1000))\n",
    "y = np.sin(np.linspace(0, 4*np.pi, 1000))\n",
    "win = pg.PlotWidget(show=True, title=\"PlotWidget example\")\n",
    "win.showGrid(x=True, y=True)\n",
    "win.plot(x,y, pen='b')\n",
    "win.setLabel('left', \"Y Axis\", units='A')\n",
    "win.setLabel('bottom', \"X Axis\", units='B')\n",
    "win.show()"
   ]
  },
  {
   "cell_type": "markdown",
   "metadata": {
    "pycharm": {
     "name": "#%% md\n"
    }
   },
   "source": [
    "#### GraphicsLayout.plot()\n",
    "\n",
    "添加新的图形到画图网格上，用于在一个画图板上创建多个子图。\n",
    "\n",
    "<img src=\"./img/pyqtgraph_layout.png\"/>"
   ]
  },
  {
   "cell_type": "code",
   "execution_count": null,
   "metadata": {
    "pycharm": {
     "name": "#%%\n"
    }
   },
   "outputs": [],
   "source": [
    "from pyqtgraph.Qt import QtGui, QtCore\n",
    "import pyqtgraph as pg\n",
    "import numpy as np\n",
    "\n",
    "win = pg.GraphicsLayoutWidget(show=True, title=\"GraphicsLayout examples\")\n",
    "\n",
    "p1 = win.addPlot(title=\"line plotting\", y=np.random.normal(size=100))\n",
    "\n",
    "p2 = win.addPlot(title=\"scatter plotting\")\n",
    "x = np.random.normal(size=1000)\n",
    "y = np.random.normal(size=1000)\n",
    "p2.plot(x, y, pen=None, symbol='t', symbolPen=None, symbolSize=8, symbolBrush=(90, 110, 255, 60))\n",
    "\n",
    "win.nextRow()\n",
    "\n",
    "p3 = win.addPlot(title=\"Filled plot, axis disabled\")\n",
    "y = np.sin(np.linspace(0, 10, 1000)) + np.random.normal(size=1000, scale=0.1)\n",
    "p3.plot(y, fillLevel=-0.3, brush=(50,50,200,100))\n",
    "p3.showAxis('bottom', False)\n",
    "\n",
    "p4 = win.addPlot(title=\"Updating plot\")\n",
    "curve = p4.plot(pen='y')\n",
    "data = np.random.normal(size=(10,1000))\n",
    "ptr = 0\n",
    "def update():\n",
    "    global curve, data, ptr, p4\n",
    "    curve.setData(data[ptr%10])\n",
    "    if ptr == 0:\n",
    "        p4.enableAutoRange('xy', False)\n",
    "    ptr += 1\n",
    "timer = QtCore.QTimer()\n",
    "timer.timeout.connect(update)\n",
    "timer.start(50)\n",
    "\n",
    "win.show()"
   ]
  },
  {
   "cell_type": "markdown",
   "metadata": {
    "pycharm": {
     "name": "#%% md\n"
    }
   },
   "source": [
    "#### Text and legend"
   ]
  },
  {
   "cell_type": "code",
   "execution_count": null,
   "metadata": {
    "pycharm": {
     "name": "#%%\n"
    }
   },
   "outputs": [],
   "source": [
    "import pyqtgraph as pg\n",
    "import numpy as np\n",
    "\n",
    "x = np.linspace(-20, 20, 1000)\n",
    "y1 = np.sin(x)\n",
    "y2 = np.cos(x)\n",
    "\n",
    "plt = pg.plot()\n",
    "plt.setWindowTitle('Legend and text')\n",
    "plt.setYRange(-1, 1.5)\n",
    "plt.addLegend()\n",
    "\n",
    "c1 = plt.plot(x, y1, pen='r', name='red')\n",
    "c2 = plt.plot(x, y2, pen='b', name='blue')\n",
    "\n",
    "text = pg.TextItem(html='<div style=\"text-align: center\"><span style=\"color: #FFF;\">This is line of </span><br><span style=\"color: #FF0; font-size: 14pt;\">Sin</span></div>', anchor=(-0.3,0.5), angle=30, border='w', fill=(0, 0, 255, 100))\n",
    "plt.addItem(text)\n",
    "text.setPos(0, y1.max())\n",
    "\n",
    "## Draw an arrowhead next to the text box\n",
    "arrow = pg.ArrowItem(pos=(0, y1.max()), angle=-30)\n",
    "plt.addItem(arrow)"
   ]
  },
  {
   "cell_type": "markdown",
   "metadata": {
    "pycharm": {
     "name": "#%% md\n"
    }
   },
   "source": [
    "#### ROI(Region Of Interest)"
   ]
  },
  {
   "cell_type": "code",
   "execution_count": null,
   "metadata": {
    "pycharm": {
     "name": "#%%\n"
    }
   },
   "outputs": [],
   "source": [
    "import pyqtgraph as pg\n",
    "import numpy as np\n",
    "from matplotlib import image\n",
    "\n",
    "imgs_data = image.imread(r'.\\misc\\sp.png')\n",
    "imgs_data = np.flip(imgs_data,0)\n",
    "\n",
    "pg.setConfigOptions(imageAxisOrder='row-major')\n",
    "w = pg.GraphicsLayoutWidget(show=True, size=(1000,800), border=True)\n",
    "w.setWindowTitle('pyqtgraph example: ROI Examples')\n",
    "\n",
    "w1 = w.addLayout()\n",
    "v1a = w1.addViewBox(row=0, col=1, lockAspect=True)\n",
    "v1b = w1.addViewBox(row=0, col=2, lockAspect=True)\n",
    "\n",
    "img1a = pg.ImageItem(imgs_data)\n",
    "v1a.addItem(img1a)\n",
    "img1b = pg.ImageItem()\n",
    "v1b.addItem(img1b)\n",
    "v1a.disableAutoRange('xy')\n",
    "v1b.disableAutoRange('xy')\n",
    "v1a.autoRange()\n",
    "v1b.autoRange()\n",
    "\n",
    "roi = pg.RectROI([400, 400], [400, 400], pen=(0,9))\n",
    "v1a.addItem(roi)\n",
    "\n",
    "def update(roi):\n",
    "    img1b.setImage(roi.getArrayRegion(imgs_data, img1a), levels=(0, imgs_data.max()))\n",
    "    v1b.autoRange()\n",
    "\n",
    "roi.sigRegionChanged.connect(update)\n",
    "v1a.addItem(roi)\n",
    "update(roi)"
   ]
  },
  {
   "cell_type": "markdown",
   "metadata": {
    "pycharm": {
     "name": "#%% md\n"
    }
   },
   "source": [
    "#### 3D绘图"
   ]
  },
  {
   "cell_type": "code",
   "execution_count": null,
   "metadata": {
    "pycharm": {
     "name": "#%%\n"
    }
   },
   "outputs": [],
   "source": [
    "import pyqtgraph.opengl as gl\n",
    "import numpy as np\n",
    "\n",
    "w = gl.GLViewWidget()\n",
    "w.show()\n",
    "w.setCameraPosition(distance=50)\n",
    "\n",
    "## Add a grid to the view\n",
    "g = gl.GLGridItem()\n",
    "#g.scale(2,2,1)\n",
    "g.setDepthValue(10)  # draw grid after surfaces since they may be translucent\n",
    "w.addItem(g)\n",
    "\n",
    "x = np.linspace(-8, 8, 50)\n",
    "y = np.linspace(-8, 8, 50)\n",
    "z = 0.1 * ((x.reshape(50,1) ** 2) - (y.reshape(1,50) ** 2))\n",
    "p2 = gl.GLSurfacePlotItem(x=x, y=y, z=z, shader='normalColor')\n",
    "#p2.translate(-10,-10,0)\n",
    "w.addItem(p2)"
   ]
  },
  {
   "cell_type": "code",
   "execution_count": null,
   "metadata": {},
   "outputs": [],
   "source": []
  }
 ],
 "metadata": {
  "kernelspec": {
   "display_name": "Python 3",
   "language": "python",
   "name": "python3"
  },
  "language_info": {
   "codemirror_mode": {
    "name": "ipython",
    "version": 3
   },
   "file_extension": ".py",
   "mimetype": "text/x-python",
   "name": "python",
   "nbconvert_exporter": "python",
   "pygments_lexer": "ipython3",
   "version": "3.7.9"
  }
 },
 "nbformat": 4,
 "nbformat_minor": 1
}