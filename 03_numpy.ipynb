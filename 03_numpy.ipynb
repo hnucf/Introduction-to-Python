{
 "cells": [
  {
   "cell_type": "markdown",
   "source": [
    "##Numpy\n",
    "\n",
    "[Numpy](http://www.numpy.org/) 是一个Python扩展软件包，主要用于科学计算。它提供了高性能的数据结构，可以有效地处理多维数组和矩阵，也称为“面向数组的计算”。另外，NumPy提供用于操作这些数组的高级数学函数。\n",
    "\n",
    "NumPy不包含在默认Python中。 用户可以通过[Python软件包索引](https://pypi.org/) 进行安装，例如`pip install numpy`或者`conda install -n my_project numpy`，`my_project`为虚拟环境名称。\n",
    "\n",
    "要使用NumPy，请使用import将NumPy导入："
   ],
   "metadata": {
    "collapsed": false
   }
  },
  {
   "cell_type": "code",
   "execution_count": null,
   "outputs": [],
   "source": [
    "import numpy as np\n",
    "\n",
    "np.sum([1, 2, 3, 4])"
   ],
   "metadata": {
    "collapsed": false,
    "pycharm": {
     "name": "#%%\n"
    }
   }
  },
  {
   "cell_type": "markdown",
   "source": [
    "------\n",
    "\n",
    "### 创建NumPy数组\n",
    "* 使用`array`函数，基于列表和元组手动创建数组："
   ],
   "metadata": {
    "collapsed": false
   }
  },
  {
   "cell_type": "code",
   "execution_count": null,
   "outputs": [],
   "source": [
    "a = np.array([1, 2, 3, 4])  # from list\n",
    "b = np.array((5.6, 6.7, 7.8, 8.9, 9.))  # from tuple\n",
    "print(a)\n",
    "print(b)\n",
    "print(a.ndim)  # 1D array\n",
    "print(a.shape)\n",
    "print(a.size)\n",
    "print(a.dtype)"
   ],
   "metadata": {
    "collapsed": false,
    "pycharm": {
     "name": "#%%\n"
    }
   }
  },
  {
   "cell_type": "markdown",
   "source": [
    "查看数据类型:"
   ],
   "metadata": {
    "collapsed": false
   }
  },
  {
   "cell_type": "code",
   "execution_count": null,
   "outputs": [],
   "source": [
    "type(a), type(b)"
   ],
   "metadata": {
    "collapsed": false,
    "pycharm": {
     "name": "#%%\n"
    }
   }
  },
  {
   "cell_type": "markdown",
   "source": [
    "创建二位数组："
   ],
   "metadata": {
    "collapsed": false
   }
  },
  {
   "cell_type": "code",
   "execution_count": null,
   "outputs": [],
   "source": [
    "c = np.array([[1., 2., 3., 4.], [5., 6., 7., 8.]])\n",
    "print(c)\n",
    "print(c.ndim)  # 2D array\n",
    "print(c.shape)  # the shape is 2 x 4\n",
    "print(c.size)\n",
    "print(c.dtype)"
   ],
   "metadata": {
    "collapsed": false,
    "pycharm": {
     "name": "#%%\n"
    }
   }
  },
  {
   "cell_type": "markdown",
   "source": [
    "在创建的时候数据类型可以指定："
   ],
   "metadata": {
    "collapsed": false
   }
  },
  {
   "cell_type": "code",
   "execution_count": null,
   "outputs": [],
   "source": [
    "d = np.array([[1, 2, 3], [10, 20, 30]], dtype='float64')\n",
    "print(d.dtype)"
   ],
   "metadata": {
    "collapsed": false,
    "pycharm": {
     "name": "#%%\n"
    }
   }
  },
  {
   "cell_type": "markdown",
   "source": [
    "* 使用其它函数创建数组：\n",
    "\n",
    "\t`np.arange()` 和 `np.linspace()` 通常用于创建元素间间隔相等的数组. 前者需要指定初始值、结束值和步进，后者则需要给定初始值、结束值和元素的个数。"
   ],
   "metadata": {
    "collapsed": false
   }
  },
  {
   "cell_type": "code",
   "execution_count": null,
   "outputs": [],
   "source": [
    "# In practice, we rarely enter elements one by one.\n",
    "e = np.arange(6)  # from 0 to n-1 with an increment of 1\n",
    "print(e)\n",
    "\n",
    "# Or specify the start, end and increment values\n",
    "f = np.arange(2, 10, 2)\n",
    "print(f)\n",
    "\n",
    "# Or use the linspace function that is similar to that of Matlab\n",
    "g = np.linspace(2, 13, 12)  # start, end and number of elements\n",
    "print(g)"
   ],
   "metadata": {
    "collapsed": false,
    "pycharm": {
     "name": "#%%\n"
    }
   }
  },
  {
   "cell_type": "markdown",
   "source": [
    "一位数组可以转换成多维数组，转换过程中需确保元素的个数相等。"
   ],
   "metadata": {
    "collapsed": false
   }
  },
  {
   "cell_type": "code",
   "execution_count": null,
   "outputs": [],
   "source": [
    "h = g.reshape([2, 6])  # 2D\n",
    "print(h)\n",
    "print('\\n\\n')\n",
    "\n",
    "i = g.reshape([2, 2, 3])  # 3D\n",
    "print(i)"
   ],
   "metadata": {
    "collapsed": false,
    "pycharm": {
     "name": "#%%\n"
    }
   }
  },
  {
   "cell_type": "markdown",
   "source": [
    " `np.ones()`, `np.zeros()`, `np.random()`, `np.empty()` 和 `np.full()` 通常用于创建尺寸已知的数组。"
   ],
   "metadata": {
    "collapsed": false
   }
  },
  {
   "cell_type": "code",
   "execution_count": null,
   "outputs": [],
   "source": [
    "# Create an array of ones\n",
    "print('np.ones():\\n', np.ones((2, 3)), '\\n')\n",
    "\n",
    "# Create an array of zeros\n",
    "print('np.zeros():\\n', np.zeros((2, 3, 4), dtype=np.int32), '\\n')\n",
    "\n",
    "# Create an array with random values\n",
    "print('np.random():\\n', np.random.random((2, 2)), '\\n')\n",
    "\n",
    "# Create an empty array that has a shape of 3x2\n",
    "print('np.empty():\\n', np.empty((3, 2)), '\\n')\n",
    "\n",
    "# Create a full array that has a shape of 3x2 and is filled with number 10\n",
    "print('np.full():\\n', np.full((3, 2), 10), '\\n')"
   ],
   "metadata": {
    "collapsed": false,
    "pycharm": {
     "name": "#%%\n"
    }
   }
  },
  {
   "cell_type": "markdown",
   "source": [
    "`np.eye()` 用于创建单位矩阵，`np.diag()` 用于创建对角矩阵。"
   ],
   "metadata": {
    "collapsed": false
   }
  },
  {
   "cell_type": "code",
   "execution_count": null,
   "outputs": [],
   "source": [
    "print('np.eye():\\n', np.eye(3), '\\n')\n",
    "\n",
    "print('np.diag():\\n', np.diag((2, 3, 4, 5)))"
   ],
   "metadata": {
    "collapsed": false,
    "pycharm": {
     "name": "#%%\n"
    }
   }
  },
  {
   "cell_type": "markdown",
   "source": [
    "`np.mgrid()` 创建一个二维的网格矩阵，类似“meshgrid”。"
   ],
   "metadata": {
    "collapsed": false
   }
  },
  {
   "cell_type": "code",
   "execution_count": null,
   "outputs": [],
   "source": [
    "x, y = np.mgrid[0:4, 1:6]\n",
    "print('x: \\n', x, '\\n')\n",
    "print('y: \\n', y, '\\n')"
   ],
   "metadata": {
    "collapsed": false,
    "pycharm": {
     "name": "#%%\n"
    }
   }
  },
  {
   "cell_type": "markdown",
   "source": [
    "------\n",
    "\n",
    "### Indexing and slicing\n",
    "\n",
    "Numpy数组元素的访问和列表类似，用方括号表示，第一个元素的索引号为0，同时也支持负的索引号。也可用切片的方式访问多个元素。"
   ],
   "metadata": {
    "collapsed": false
   }
  },
  {
   "cell_type": "code",
   "execution_count": null,
   "outputs": [],
   "source": [
    "a = np.arange(10)\n",
    "print('Array a: ', a[:])\n",
    "print('The first element of a: ', a[0])\n",
    "print('The last element of a: ', a[-1])\n",
    "print('The first 3 elements of a: ', a[:3])\n",
    "print('The last 3 elements of a: ', a[-3:])\n",
    "print('Elements from the third to the end: ', a[2:])\n",
    "print('Elements from the third to the eighth: ', a[2:8])\n",
    "print('Elements from the start to the end with a step of 1: ', a[::])\n",
    "print('Elements from the start to the end with a step of 2: ', a[::2])\n",
    "print('Elements from the third to the eighth with a step of 2: ', a[2:8:2])"
   ],
   "metadata": {
    "collapsed": false,
    "pycharm": {
     "name": "#%%\n"
    }
   }
  },
  {
   "cell_type": "markdown",
   "source": [
    "与列表不同的是，多维数组元素的访问通过给定每一维上的索引号："
   ],
   "metadata": {
    "collapsed": false
   }
  },
  {
   "cell_type": "code",
   "execution_count": null,
   "outputs": [],
   "source": [
    "# Here we use list comprehension to construct a 2-D array\n",
    "b = np.array([[m + n for m in np.arange(6)] for n in np.arange(4)])\n",
    "print('Array b:\\n', b[:, :], '\\n')\n",
    "print('The second row: ', b[1, :], '\\n')\n",
    "print('A subset of array b:\\n', b[1:4, 2:4])"
   ],
   "metadata": {
    "collapsed": false,
    "pycharm": {
     "name": "#%%\n"
    }
   }
  },
  {
   "cell_type": "markdown",
   "source": [
    "多维数组中若要访问某一维全部的数据，使用 `:`代替索引号或者省略："
   ],
   "metadata": {
    "collapsed": false
   }
  },
  {
   "cell_type": "code",
   "execution_count": null,
   "outputs": [],
   "source": [
    "print('The first row: ', b[0])  # equivalent to b[0, :]"
   ],
   "metadata": {
    "collapsed": false,
    "pycharm": {
     "name": "#%%\n"
    }
   }
  },
  {
   "cell_type": "markdown",
   "source": [
    "索引号可以是列表："
   ],
   "metadata": {
    "collapsed": false
   }
  },
  {
   "cell_type": "code",
   "execution_count": null,
   "outputs": [],
   "source": [
    "idx_row = np.array([0, 2, 3])\n",
    "idx_col = np.array([1, 3, 5])\n",
    "print('b[idx_row]:\\n', b[idx_row], '\\n')\n",
    "print('b[idx_col]:\\n', b[:, idx_col], '\\n')\n",
    "print('b[idx_row, idx_col]:\\n', b[idx_row, idx_col])"
   ],
   "metadata": {
    "collapsed": false,
    "pycharm": {
     "name": "#%%\n"
    }
   }
  },
  {
   "cell_type": "markdown",
   "source": [
    "使用逻辑掩码作为NumPy的索引号对于选择性地访问和处理数组元素非常有用。我们可以将bool数据类型的数组用作索引号，并选择其索引值为true的元素。"
   ],
   "metadata": {
    "collapsed": false
   }
  },
  {
   "cell_type": "code",
   "execution_count": null,
   "outputs": [],
   "source": [
    "masks = np.array([[0, 1, 0, 1, 0, 1], [0, 1, 0, 1, 0, 1], [0, 1, 0, 1, 0, 1], [0, 1, 0, 1, 0, 1]], dtype=bool)\n",
    "print('b:\\n', b, '\\n')\n",
    "print('masks:\\n', masks, '\\n')\n",
    "print('Masked b:\\n', b[masks])"
   ],
   "metadata": {
    "collapsed": false,
    "pycharm": {
     "name": "#%%\n"
    }
   }
  },
  {
   "cell_type": "markdown",
   "source": [
    "逻辑判断作为索引号也非常的有用。数组中的每个元素将做逻辑判断，然后返回逻辑为真的元素，例如提取大于2的元素。"
   ],
   "metadata": {
    "collapsed": false
   }
  },
  {
   "cell_type": "code",
   "execution_count": null,
   "outputs": [],
   "source": [
    "b[b > 2]"
   ],
   "metadata": {
    "collapsed": false,
    "pycharm": {
     "name": "#%%\n"
    }
   }
  },
  {
   "cell_type": "markdown",
   "source": [
    "------\n",
    "\n",
    "### 运算\n",
    "#### 算数运算\n",
    "`+`, `-`, `*` 和 `/`为加减乘除运算，可以是两个数组或者一个数组与一个标量。记住，算术运算是按元素的运算（element-wise）："
   ],
   "metadata": {
    "collapsed": false
   }
  },
  {
   "cell_type": "code",
   "execution_count": null,
   "outputs": [],
   "source": [
    "a = 10.5\n",
    "array1 = np.array([[m + n for m in np.arange(6)] for n in np.arange(4)], dtype=np.float32)  # 4 x 6 2D arrays\n",
    "array2 = np.array([[m - n for m in np.arange(6)] for n in np.arange(4)], dtype=np.float32)  # 4 x 6 2D arrays"
   ],
   "metadata": {
    "collapsed": false,
    "pycharm": {
     "name": "#%%\n"
    }
   }
  },
  {
   "cell_type": "code",
   "execution_count": null,
   "outputs": [],
   "source": [
    "print(array1 + a, '\\n')\n",
    "print(array1 - array2, '\\n')\n",
    "print(array1 / a, '\\n')\n",
    "print(array1 * array2)"
   ],
   "metadata": {
    "collapsed": false,
    "pycharm": {
     "name": "#%%\n"
    }
   }
  },
  {
   "cell_type": "markdown",
   "source": [
    "`+=`, `-=`, `*=` and `/=` 与上述常规操作不同，此操作发生在本地进而修改当前的数组，而不是创建新的数组。"
   ],
   "metadata": {
    "collapsed": false
   }
  },
  {
   "cell_type": "code",
   "execution_count": null,
   "outputs": [],
   "source": [
    "array3 = np.array(np.arange(10), dtype=float)\n",
    "print(array3)\n",
    "array3 += 2.5\n",
    "print(array3)"
   ],
   "metadata": {
    "collapsed": false,
    "pycharm": {
     "name": "#%%\n"
    }
   }
  },
  {
   "cell_type": "markdown",
   "source": [
    "#### 线性代数运算\n",
    "\n",
    "数组操作不是矩阵操作。前者是基于元素的运算，而后者则遵循线性代数的数学规则。如果我们将NumPy数组用作线性代数的运算（例如，点乘np.dot（）），则两个数组的形状应与数学规则匹配。"
   ],
   "metadata": {
    "collapsed": false
   }
  },
  {
   "cell_type": "code",
   "execution_count": null,
   "outputs": [],
   "source": [
    "A = np.array([[m + n for m in np.arange(4)] for n in np.arange(4)])  # 4 x 4 2D arrays\n",
    "B = np.array([[m - n for m in np.arange(3)] for n in np.arange(4)])  # 4 x 3 2D arrays\n",
    "C = np.arange(4)  # 1D vector with a size of 4\n",
    "A, B, C"
   ],
   "metadata": {
    "collapsed": false,
    "pycharm": {
     "name": "#%%\n"
    }
   }
  },
  {
   "cell_type": "code",
   "execution_count": null,
   "outputs": [],
   "source": [
    "print(np.dot(A, B), '\\n')\n",
    "print(np.dot(A, C))"
   ],
   "metadata": {
    "collapsed": false,
    "pycharm": {
     "name": "#%%\n"
    }
   }
  },
  {
   "cell_type": "markdown",
   "source": [
    "或者使用 `np.matrix()`函数创建一个矩阵："
   ],
   "metadata": {
    "collapsed": false
   }
  },
  {
   "cell_type": "code",
   "execution_count": null,
   "outputs": [],
   "source": [
    "AM = np.matrix(A)\n",
    "BM = np.matrix(B)\n",
    "CM = np.matrix(C)\n",
    "AM, BM, CM"
   ],
   "metadata": {
    "collapsed": false,
    "pycharm": {
     "name": "#%%\n"
    }
   }
  },
  {
   "cell_type": "markdown",
   "source": [
    "然后 `+`, `-`, 和 `*`的运算将遵循线性代数，而不是按元素。"
   ],
   "metadata": {
    "collapsed": false
   }
  },
  {
   "cell_type": "code",
   "execution_count": null,
   "outputs": [],
   "source": [
    "# dot product\n",
    "AM * BM"
   ],
   "metadata": {
    "collapsed": false,
    "pycharm": {
     "name": "#%%\n"
    }
   }
  },
  {
   "cell_type": "code",
   "execution_count": null,
   "outputs": [],
   "source": [
    "AM * CM.T  # here .T means Transport that converts CM to a column vector"
   ],
   "metadata": {
    "collapsed": false,
    "pycharm": {
     "name": "#%%\n"
    }
   }
  },
  {
   "cell_type": "code",
   "execution_count": null,
   "outputs": [],
   "source": [
    "# inner product\n",
    "CM * CM.T  # you can also use np.inner() function"
   ],
   "metadata": {
    "collapsed": false,
    "pycharm": {
     "name": "#%%\n"
    }
   }
  },
  {
   "cell_type": "code",
   "execution_count": null,
   "outputs": [],
   "source": [
    "# outer product\n",
    "CM.T * CM  # you can also use np.outer() function"
   ],
   "metadata": {
    "collapsed": false,
    "pycharm": {
     "name": "#%%\n"
    }
   }
  },
  {
   "cell_type": "code",
   "execution_count": null,
   "outputs": [],
   "source": [
    "# Matrix addition\n",
    "CM.T + AM * CM.T"
   ],
   "metadata": {
    "collapsed": false,
    "pycharm": {
     "name": "#%%\n"
    }
   }
  },
  {
   "cell_type": "markdown",
   "source": [
    "举证的行列式和逆矩阵："
   ],
   "metadata": {
    "collapsed": false
   }
  },
  {
   "cell_type": "code",
   "execution_count": null,
   "outputs": [],
   "source": [
    "# Determinant\n",
    "M = np.array([[6, 1, 2], [2, -4, 6], [3, 5, 8]])\n",
    "np.linalg.det(M)"
   ],
   "metadata": {
    "collapsed": false,
    "pycharm": {
     "name": "#%%\n"
    }
   }
  },
  {
   "cell_type": "code",
   "execution_count": null,
   "outputs": [],
   "source": [
    "# Inverse\n",
    "np.linalg.inv(M)"
   ],
   "metadata": {
    "collapsed": false,
    "pycharm": {
     "name": "#%%\n"
    }
   }
  },
  {
   "cell_type": "markdown",
   "source": [
    "#### 其它常用函数：\n",
    "\n",
    "Numpy还提供了大量的数学函数，如统计学函数 `np.sum()`, `np.mean()`, `np.min()`, `np.max()`, `np.std()`, `np.var()`, `np.prod()`, and `np.trace()`和三角函数。完整的数学函数的列表： [here](https://docs.scipy.org/doc/numpy-1.13.0/reference/routines.math.html)."
   ],
   "metadata": {
    "collapsed": false
   }
  },
  {
   "cell_type": "markdown",
   "source": [
    "------\n",
    "\n",
    "### Copies and Views\n",
    "\n",
    "Python中的内存处理通常很麻烦。对于数组操作，有些操作会将数组数据复制到新数组，有些则不然。尤其是对于初学者来说，很容混淆。让我们看看什么是 _copies_ 和 _views_。\n",
    "\n",
    "#### No copy\n",
    "\n",
    "数组赋值通常不会复制数组数据，只是给数组另一个变量名。对新数组所做的更改将传递到原始数组。"
   ],
   "metadata": {
    "collapsed": false
   }
  },
  {
   "cell_type": "code",
   "execution_count": null,
   "outputs": [],
   "source": [
    "D = np.array([1, 2, 3, 4, 5])\n",
    "D"
   ],
   "metadata": {
    "collapsed": false,
    "pycharm": {
     "name": "#%%\n"
    }
   }
  },
  {
   "cell_type": "code",
   "execution_count": null,
   "outputs": [],
   "source": [
    "D1 = D\n",
    "D1 is D"
   ],
   "metadata": {
    "collapsed": false,
    "pycharm": {
     "name": "#%%\n"
    }
   }
  },
  {
   "cell_type": "code",
   "execution_count": null,
   "outputs": [],
   "source": [
    "D1[0:2] = 100  # we change D1\n",
    "print(D)  # D is also changed"
   ],
   "metadata": {
    "collapsed": false,
    "pycharm": {
     "name": "#%%\n"
    }
   }
  },
  {
   "cell_type": "markdown",
   "source": [
    "记住，将一个可变异的参数作为函数的输入的时候，所传递的是reference，函数内若对传递的参数进行了修改，函数外被传递的参数的值也将被修改。可以理解为函数参数实际上传递的只是参数的名字。"
   ],
   "metadata": {
    "collapsed": false
   }
  },
  {
   "cell_type": "code",
   "execution_count": null,
   "outputs": [],
   "source": [
    "def myfunc(a):\n",
    "    a[:] = -10\n",
    "\n",
    "myfunc(D)\n",
    "D"
   ],
   "metadata": {
    "collapsed": false,
    "pycharm": {
     "name": "#%%\n"
    }
   }
  },
  {
   "cell_type": "markdown",
   "source": [
    "#### View and shallow copy\n",
    "\n",
    "不同的数组可以共享相同的数据（相同的内存），并以不同的形式（例如不同的尺寸数）表示相同的数据。 这个称为`view`。"
   ],
   "metadata": {
    "collapsed": false
   }
  },
  {
   "cell_type": "code",
   "execution_count": null,
   "outputs": [],
   "source": [
    "E = np.array([1, 2, 3, 4, 5, 6])\n",
    "E"
   ],
   "metadata": {
    "collapsed": false,
    "pycharm": {
     "name": "#%%\n"
    }
   }
  },
  {
   "cell_type": "code",
   "execution_count": null,
   "outputs": [],
   "source": [
    "E1 = E.view()\n",
    "E1"
   ],
   "metadata": {
    "collapsed": false,
    "pycharm": {
     "name": "#%%\n"
    }
   }
  },
  {
   "cell_type": "code",
   "execution_count": null,
   "outputs": [],
   "source": [
    "E1 is E"
   ],
   "metadata": {
    "collapsed": false,
    "pycharm": {
     "name": "#%%\n"
    }
   }
  },
  {
   "cell_type": "code",
   "execution_count": null,
   "outputs": [],
   "source": [
    "E1.shape = (3, 2)  # now E1's shape is 3x2\n",
    "E1.shape"
   ],
   "metadata": {
    "collapsed": false,
    "pycharm": {
     "name": "#%%\n"
    }
   }
  },
  {
   "cell_type": "code",
   "execution_count": null,
   "outputs": [],
   "source": [
    "E.shape"
   ],
   "metadata": {
    "collapsed": false,
    "pycharm": {
     "name": "#%%\n"
    }
   }
  },
  {
   "cell_type": "code",
   "execution_count": null,
   "outputs": [],
   "source": [
    "E1[0, :] = 0  # Now we change E1\n",
    "E  # E is also changed"
   ],
   "metadata": {
    "collapsed": false,
    "pycharm": {
     "name": "#%%\n"
    }
   }
  },
  {
   "cell_type": "markdown",
   "source": [
    "记住，切片操作返回一个`view`。"
   ],
   "metadata": {
    "collapsed": false
   }
  },
  {
   "cell_type": "code",
   "execution_count": null,
   "outputs": [],
   "source": [
    "E2 = E[2:]\n",
    "E2"
   ],
   "metadata": {
    "collapsed": false,
    "pycharm": {
     "name": "#%%\n"
    }
   }
  },
  {
   "cell_type": "code",
   "execution_count": null,
   "outputs": [],
   "source": [
    "E2[:] = 0  # change E2\n",
    "E  # E also changed"
   ],
   "metadata": {
    "collapsed": false,
    "pycharm": {
     "name": "#%%\n"
    }
   }
  },
  {
   "cell_type": "markdown",
   "source": [
    "#### Deep copy\n",
    "真正的copy："
   ],
   "metadata": {
    "collapsed": false
   }
  },
  {
   "cell_type": "code",
   "execution_count": null,
   "outputs": [],
   "source": [
    "E3 = E.copy()\n",
    "E3"
   ],
   "metadata": {
    "collapsed": false,
    "pycharm": {
     "name": "#%%\n"
    }
   }
  },
  {
   "cell_type": "code",
   "execution_count": null,
   "outputs": [],
   "source": [
    "E3[:] = 100  # E3 has been changed\n",
    "E  # E is not affected"
   ],
   "metadata": {
    "collapsed": false,
    "pycharm": {
     "name": "#%%\n"
    }
   }
  },
  {
   "cell_type": "markdown",
   "source": [
    "为组织函数改变一个数组的值，通常可以将一个数组的copy传递给函数，但是更耗内存。"
   ],
   "metadata": {
    "collapsed": false
   }
  },
  {
   "cell_type": "code",
   "execution_count": null,
   "outputs": [],
   "source": [
    "myfunc(E.copy())\n",
    "E"
   ],
   "metadata": {
    "collapsed": false,
    "pycharm": {
     "name": "#%%\n"
    }
   }
  },
  {
   "cell_type": "code",
   "execution_count": null,
   "outputs": [],
   "source": [
    "# If we pass E directly to the function\n",
    "myfunc(E)\n",
    "E"
   ],
   "metadata": {
    "collapsed": false,
    "pycharm": {
     "name": "#%%\n"
    }
   }
  },
  {
   "cell_type": "markdown",
   "source": [
    "------\n",
    "\n",
    "### 数组的操作\n",
    "#### Flattening, reshaping and resizing\n",
    "使用`flatten` 或者 `ravel`函数可以将任意一个多维数组可以转变成一个一维数组。 前者返回一个copy或者返回view。"
   ],
   "metadata": {
    "collapsed": false
   }
  },
  {
   "cell_type": "code",
   "execution_count": null,
   "outputs": [],
   "source": [
    "A"
   ],
   "metadata": {
    "collapsed": false,
    "pycharm": {
     "name": "#%%\n"
    }
   }
  },
  {
   "cell_type": "code",
   "execution_count": null,
   "outputs": [],
   "source": [
    "A1 = A.flatten()\n",
    "A1"
   ],
   "metadata": {
    "collapsed": false,
    "pycharm": {
     "name": "#%%\n"
    }
   }
  },
  {
   "cell_type": "code",
   "execution_count": null,
   "outputs": [],
   "source": [
    "# change A1\n",
    "A1[1:6] = 99\n",
    "A1"
   ],
   "metadata": {
    "collapsed": false,
    "pycharm": {
     "name": "#%%\n"
    }
   }
  },
  {
   "cell_type": "code",
   "execution_count": null,
   "outputs": [],
   "source": [
    "# verify A\n",
    "A"
   ],
   "metadata": {
    "collapsed": false,
    "pycharm": {
     "name": "#%%\n"
    }
   }
  },
  {
   "cell_type": "code",
   "execution_count": null,
   "outputs": [],
   "source": [
    "A2 = A.ravel()\n",
    "A2[1:6] = 99  # we change A2\n",
    "A  # A is changed"
   ],
   "metadata": {
    "collapsed": false,
    "pycharm": {
     "name": "#%%\n"
    }
   }
  },
  {
   "cell_type": "markdown",
   "source": [
    "np.reshape可改变数组维上的尺寸，返回的是view。尺寸改变前后数组的尺寸应保持一致，例如，数组A有16个元素，我们可以将其重构为`（4，4）`，`（2，8）`或`（2，2，4）`，而不是`（3，4）`， `（3，4）`或其他与数组大小不匹配的尺寸。"
   ],
   "metadata": {
    "collapsed": false
   }
  },
  {
   "cell_type": "code",
   "execution_count": null,
   "outputs": [],
   "source": [
    "A3 = A.reshape(2, 8)\n",
    "A3"
   ],
   "metadata": {
    "collapsed": false,
    "pycharm": {
     "name": "#%%\n"
    }
   }
  },
  {
   "cell_type": "code",
   "execution_count": null,
   "outputs": [],
   "source": [
    "# let's introduce changes to A3\n",
    "A3[0, 1:6] = 100\n",
    "A"
   ],
   "metadata": {
    "collapsed": false,
    "pycharm": {
     "name": "#%%\n"
    }
   }
  },
  {
   "cell_type": "code",
   "execution_count": null,
   "outputs": [],
   "source": [
    "A4 = np.reshape(A, (2, 8))\n",
    "A4"
   ],
   "metadata": {
    "collapsed": false,
    "pycharm": {
     "name": "#%%\n"
    }
   }
  },
  {
   "cell_type": "code",
   "execution_count": null,
   "outputs": [],
   "source": [
    "A4[0, 1:6] = 200\n",
    "A"
   ],
   "metadata": {
    "collapsed": false,
    "pycharm": {
     "name": "#%%\n"
    }
   }
  },
  {
   "cell_type": "markdown",
   "source": [
    "也可以适应数组自带的方法进行本地操作："
   ],
   "metadata": {
    "collapsed": false
   }
  },
  {
   "cell_type": "code",
   "execution_count": null,
   "outputs": [],
   "source": [
    "A.shape = (2, 8)\n",
    "A"
   ],
   "metadata": {
    "collapsed": false,
    "pycharm": {
     "name": "#%%\n"
    }
   }
  },
  {
   "cell_type": "markdown",
   "source": [
    "resize函数："
   ],
   "metadata": {
    "collapsed": false
   }
  },
  {
   "cell_type": "code",
   "execution_count": null,
   "outputs": [],
   "source": [
    "F = np.array([[m + n + 1 for m in np.arange(3)] for n in np.arange(5)])  # 5 x 3 2D arrays with a size of 15\n",
    "F.resize(20)  # we change the size from 15 to 20\n",
    "F"
   ],
   "metadata": {
    "collapsed": false,
    "pycharm": {
     "name": "#%%\n"
    }
   }
  },
  {
   "cell_type": "markdown",
   "source": [
    "If the new size if larger than the old one, `0` will be used to fill in the gaps."
   ],
   "metadata": {
    "collapsed": false
   }
  },
  {
   "cell_type": "markdown",
   "source": [],
   "metadata": {
    "collapsed": false
   }
  }
 ],
 "metadata": {
  "kernelspec": {
   "display_name": "Python 3",
   "language": "python",
   "name": "python3"
  },
  "language_info": {
   "codemirror_mode": {
    "name": "ipython",
    "version": 2
   },
   "file_extension": ".py",
   "mimetype": "text/x-python",
   "name": "python",
   "nbconvert_exporter": "python",
   "pygments_lexer": "ipython2",
   "version": "2.7.6"
  }
 },
 "nbformat": 4,
 "nbformat_minor": 0
}