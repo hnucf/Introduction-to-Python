{
 "cells": [
  {
   "cell_type": "markdown",
   "metadata": {},
   "source": [
    "##Numpy\n",
    "\n",
    "[Numpy](http://www.numpy.org/) 是一个Python扩展软件包，主要用于科学计算。它提供了高性能的数据结构，可以有效地处理多维数组和矩阵，也称为“面向数组的计算”。另外，NumPy提供用于操作这些数组的高级数学函数。\n",
    "\n",
    "NumPy不包含在默认Python中。 用户可以通过[Python软件包索引](https://pypi.org/) 进行安装，例如`pip install numpy`或者`conda install -n my_project numpy`，`my_project`为虚拟环境名称。\n",
    "\n",
    "要使用NumPy，请使用import将NumPy导入："
   ]
  },
  {
   "cell_type": "code",
   "execution_count": 1,
   "metadata": {
    "pycharm": {
     "name": "#%%\n"
    }
   },
   "outputs": [
    {
     "data": {
      "text/plain": [
       "10"
      ]
     },
     "execution_count": 1,
     "metadata": {},
     "output_type": "execute_result"
    }
   ],
   "source": [
    "import numpy as np\n",
    "\n",
    "np.sum([1, 2, 3, 4])"
   ]
  },
  {
   "cell_type": "markdown",
   "metadata": {},
   "source": [
    "------\n",
    "\n",
    "### 创建NumPy数组\n",
    "* 使用`array`函数，基于列表和元组手动创建数组："
   ]
  },
  {
   "cell_type": "code",
   "execution_count": null,
   "metadata": {
    "pycharm": {
     "name": "#%%\n"
    }
   },
   "outputs": [],
   "source": [
    "a = np.array([1, 2, 3, 4])  # from list\n",
    "b = np.array((5.6, 6.7, 7.8, 8.9, 9.))  # from tuple\n",
    "print(a)\n",
    "print(b)\n",
    "print(a.ndim)  # 1D array\n",
    "print(a.shape)\n",
    "print(a.size)\n",
    "print(a.dtype)"
   ]
  },
  {
   "cell_type": "markdown",
   "metadata": {},
   "source": [
    "查看数据类型:"
   ]
  },
  {
   "cell_type": "code",
   "execution_count": null,
   "metadata": {
    "pycharm": {
     "name": "#%%\n"
    }
   },
   "outputs": [],
   "source": [
    "type(a), type(b)"
   ]
  },
  {
   "cell_type": "markdown",
   "metadata": {},
   "source": [
    "创建二位数组："
   ]
  },
  {
   "cell_type": "code",
   "execution_count": null,
   "metadata": {
    "pycharm": {
     "name": "#%%\n"
    }
   },
   "outputs": [],
   "source": [
    "c = np.array([[1., 2., 3., 4.], [5., 6., 7., 8.]])\n",
    "print(c)\n",
    "print(c.ndim)  # 2D array\n",
    "print(c.shape)  # the shape is 2 x 4\n",
    "print(c.size)\n",
    "print(c.dtype)"
   ]
  },
  {
   "cell_type": "markdown",
   "metadata": {},
   "source": [
    "在创建的时候数据类型可以指定："
   ]
  },
  {
   "cell_type": "code",
   "execution_count": null,
   "metadata": {
    "pycharm": {
     "name": "#%%\n"
    }
   },
   "outputs": [],
   "source": [
    "d = np.array([[1, 2, 3], [10, 20, 30]], dtype='float64')\n",
    "print(d.dtype)"
   ]
  },
  {
   "cell_type": "markdown",
   "metadata": {},
   "source": [
    "* 使用其它函数创建数组：\n",
    "\n",
    "\t`np.arange()` 和 `np.linspace()` 通常用于创建元素间间隔相等的数组. 前者需要指定初始值、结束值和步进，后者则需要给定初始值、结束值和元素的个数。"
   ]
  },
  {
   "cell_type": "code",
   "execution_count": null,
   "metadata": {
    "pycharm": {
     "name": "#%%\n"
    }
   },
   "outputs": [],
   "source": [
    "# In practice, we rarely enter elements one by one.\n",
    "e = np.arange(6)  # from 0 to n-1 with an increment of 1\n",
    "print(e)\n",
    "\n",
    "# Or specify the start, end and increment values\n",
    "f = np.arange(2, 10, 2)\n",
    "print(f)\n",
    "\n",
    "# Or use the linspace function that is similar to that of Matlab\n",
    "g = np.linspace(2, 13, 12)  # start, end and number of elements\n",
    "print(g)"
   ]
  },
  {
   "cell_type": "markdown",
   "metadata": {},
   "source": [
    "一位数组可以转换成多维数组，转换过程中需确保元素的个数相等。"
   ]
  },
  {
   "cell_type": "code",
   "execution_count": null,
   "metadata": {
    "pycharm": {
     "name": "#%%\n"
    }
   },
   "outputs": [],
   "source": [
    "h = g.reshape([2, 6])  # 2D\n",
    "print(h)\n",
    "print('\\n\\n')\n",
    "\n",
    "i = g.reshape([2, 2, 3])  # 3D\n",
    "print(i)"
   ]
  },
  {
   "cell_type": "markdown",
   "metadata": {},
   "source": [
    " `np.ones()`, `np.zeros()`, `np.random()`, `np.empty()` 和 `np.full()` 通常用于创建尺寸已知的数组。"
   ]
  },
  {
   "cell_type": "code",
   "execution_count": null,
   "metadata": {
    "pycharm": {
     "name": "#%%\n"
    }
   },
   "outputs": [],
   "source": [
    "# Create an array of ones\n",
    "print('np.ones():\\n', np.ones((2, 3)), '\\n')\n",
    "\n",
    "# Create an array of zeros\n",
    "print('np.zeros():\\n', np.zeros((2, 3, 4), dtype=np.int32), '\\n')\n",
    "\n",
    "# Create an array with random values\n",
    "print('np.random():\\n', np.random.random((2, 2)), '\\n')\n",
    "\n",
    "# Create an empty array that has a shape of 3x2\n",
    "print('np.empty():\\n', np.empty((3, 2)), '\\n')\n",
    "\n",
    "# Create a full array that has a shape of 3x2 and is filled with number 10\n",
    "print('np.full():\\n', np.full((3, 2), 10), '\\n')"
   ]
  },
  {
   "cell_type": "markdown",
   "metadata": {},
   "source": [
    "`np.eye()` 用于创建单位矩阵，`np.diag()` 用于创建对角矩阵。"
   ]
  },
  {
   "cell_type": "code",
   "execution_count": null,
   "metadata": {
    "pycharm": {
     "name": "#%%\n"
    }
   },
   "outputs": [],
   "source": [
    "print('np.eye():\\n', np.eye(3), '\\n')\n",
    "\n",
    "print('np.diag():\\n', np.diag((2, 3, 4, 5)))"
   ]
  },
  {
   "cell_type": "markdown",
   "metadata": {},
   "source": [
    "`np.mgrid()` 创建一个二维的网格矩阵，类似“meshgrid”。"
   ]
  },
  {
   "cell_type": "code",
   "execution_count": null,
   "metadata": {
    "pycharm": {
     "name": "#%%\n"
    }
   },
   "outputs": [],
   "source": [
    "x, y = np.mgrid[0:4, 1:6]\n",
    "print('x: \\n', x, '\\n')\n",
    "print('y: \\n', y, '\\n')"
   ]
  },
  {
   "cell_type": "markdown",
   "metadata": {},
   "source": [
    "------\n",
    "\n",
    "### Indexing and slicing\n",
    "\n",
    "Numpy数组元素的访问和列表类似，用方括号表示，第一个元素的索引号为0，同时也支持负的索引号。也可用切片的方式访问多个元素。"
   ]
  },
  {
   "cell_type": "code",
   "execution_count": null,
   "metadata": {
    "pycharm": {
     "name": "#%%\n"
    }
   },
   "outputs": [],
   "source": [
    "a = np.arange(10)\n",
    "print('Array a: ', a[:])\n",
    "print('The first element of a: ', a[0])\n",
    "print('The last element of a: ', a[-1])\n",
    "print('The first 3 elements of a: ', a[:3])\n",
    "print('The last 3 elements of a: ', a[-3:])\n",
    "print('Elements from the third to the end: ', a[2:])\n",
    "print('Elements from the third to the eighth: ', a[2:8])\n",
    "print('Elements from the start to the end with a step of 1: ', a[::])\n",
    "print('Elements from the start to the end with a step of 2: ', a[::2])\n",
    "print('Elements from the third to the eighth with a step of 2: ', a[2:8:2])"
   ]
  },
  {
   "cell_type": "markdown",
   "metadata": {},
   "source": [
    "与列表不同的是，多维数组元素的访问通过给定每一维上的索引号："
   ]
  },
  {
   "cell_type": "code",
   "execution_count": null,
   "metadata": {
    "pycharm": {
     "name": "#%%\n"
    }
   },
   "outputs": [],
   "source": [
    "# Here we use list comprehension to construct a 2-D array\n",
    "b = np.array([[m + n for m in np.arange(6)] for n in np.arange(4)])\n",
    "print('Array b:\\n', b[:, :], '\\n')\n",
    "print('The second row: ', b[1, :], '\\n')\n",
    "print('A subset of array b:\\n', b[1:4, 2:4])"
   ]
  },
  {
   "cell_type": "markdown",
   "metadata": {},
   "source": [
    "多维数组中若要访问某一维全部的数据，使用 `:`代替索引号或者省略："
   ]
  },
  {
   "cell_type": "code",
   "execution_count": null,
   "metadata": {
    "pycharm": {
     "name": "#%%\n"
    }
   },
   "outputs": [],
   "source": [
    "print('The first row: ', b[0])  # equivalent to b[0, :]"
   ]
  },
  {
   "cell_type": "markdown",
   "metadata": {},
   "source": [
    "索引号可以是列表："
   ]
  },
  {
   "cell_type": "code",
   "execution_count": null,
   "metadata": {
    "pycharm": {
     "name": "#%%\n"
    }
   },
   "outputs": [],
   "source": [
    "idx_row = np.array([0, 2, 3])\n",
    "idx_col = np.array([1, 3, 5])\n",
    "print('b[idx_row]:\\n', b[idx_row], '\\n')\n",
    "print('b[idx_col]:\\n', b[:, idx_col], '\\n')\n",
    "print('b[idx_row, idx_col]:\\n', b[idx_row, idx_col])"
   ]
  },
  {
   "cell_type": "markdown",
   "metadata": {},
   "source": [
    "使用逻辑掩码作为NumPy的索引号对于选择性地访问和处理数组元素非常有用。我们可以将bool数据类型的数组用作索引号，并选择其索引值为true的元素。"
   ]
  },
  {
   "cell_type": "code",
   "execution_count": null,
   "metadata": {
    "pycharm": {
     "name": "#%%\n"
    }
   },
   "outputs": [],
   "source": [
    "masks = np.array([[0, 1, 0, 1, 0, 1], [0, 1, 0, 1, 0, 1], [0, 1, 0, 1, 0, 1], [0, 1, 0, 1, 0, 1]], dtype=bool)\n",
    "print('b:\\n', b, '\\n')\n",
    "print('masks:\\n', masks, '\\n')\n",
    "print('Masked b:\\n', b[masks])"
   ]
  },
  {
   "cell_type": "markdown",
   "metadata": {},
   "source": [
    "逻辑判断作为索引号也非常的有用。数组中的每个元素将做逻辑判断，然后返回逻辑为真的元素，例如提取大于2的元素。"
   ]
  },
  {
   "cell_type": "code",
   "execution_count": null,
   "metadata": {
    "pycharm": {
     "name": "#%%\n"
    }
   },
   "outputs": [],
   "source": [
    "b[b > 2]"
   ]
  },
  {
   "cell_type": "markdown",
   "metadata": {},
   "source": [
    "------\n",
    "\n",
    "### 运算\n",
    "#### 算数运算\n",
    "`+`, `-`, `*` 和 `/`为加减乘除运算，可以是两个数组或者一个数组与一个标量。记住，算术运算是按元素的运算（element-wise）："
   ]
  },
  {
   "cell_type": "code",
   "execution_count": null,
   "metadata": {
    "pycharm": {
     "name": "#%%\n"
    }
   },
   "outputs": [],
   "source": [
    "a = 10.5\n",
    "array1 = np.array([[m + n for m in np.arange(6)] for n in np.arange(4)], dtype=np.float32)  # 4 x 6 2D arrays\n",
    "array2 = np.array([[m - n for m in np.arange(6)] for n in np.arange(4)], dtype=np.float32)  # 4 x 6 2D arrays"
   ]
  },
  {
   "cell_type": "code",
   "execution_count": null,
   "metadata": {
    "pycharm": {
     "name": "#%%\n"
    }
   },
   "outputs": [],
   "source": [
    "print(array1 + a, '\\n')\n",
    "print(array1 - array2, '\\n')\n",
    "print(array1 / a, '\\n')\n",
    "print(array1 * array2)"
   ]
  },
  {
   "cell_type": "markdown",
   "metadata": {},
   "source": [
    "`+=`, `-=`, `*=` and `/=` 与上述常规操作不同，此操作发生在本地进而修改当前的数组，而不是创建新的数组。"
   ]
  },
  {
   "cell_type": "code",
   "execution_count": null,
   "metadata": {
    "pycharm": {
     "name": "#%%\n"
    }
   },
   "outputs": [],
   "source": [
    "array3 = np.array(np.arange(10), dtype=float)\n",
    "print(array3)\n",
    "array3 += 2.5\n",
    "print(array3)"
   ]
  },
  {
   "cell_type": "markdown",
   "metadata": {},
   "source": [
    "#### 线性代数运算\n",
    "\n",
    "数组操作不是矩阵操作。前者是基于元素的运算，而后者则遵循线性代数的数学规则。如果我们将NumPy数组用作线性代数的运算（例如，点乘np.dot（）），则两个数组的形状应与数学规则匹配。"
   ]
  },
  {
   "cell_type": "code",
   "execution_count": null,
   "metadata": {
    "pycharm": {
     "name": "#%%\n"
    }
   },
   "outputs": [],
   "source": [
    "import numpy as np\n",
    "A = np.array([[m + n for m in np.arange(4)] for n in np.arange(4)])  # 4 x 4 2D arrays\n",
    "B = np.array([[m - n for m in np.arange(3)] for n in np.arange(4)])  # 4 x 3 2D arrays\n",
    "C = np.arange(4)  # 1D vector with a size of 4\n",
    "A, B, C\n",
    "print(A)\n",
    "print(B)\n",
    "print(C)\n",
    "print(A.shape)\n",
    "print(B.shape)\n",
    "print(C.shape)"
   ]
  },
  {
   "cell_type": "code",
   "execution_count": null,
   "metadata": {
    "pycharm": {
     "name": "#%%\n"
    }
   },
   "outputs": [],
   "source": [
    "print(np.dot(A, B), '\\n')\n",
    "print(np.dot(A, C))"
   ]
  },
  {
   "cell_type": "markdown",
   "metadata": {},
   "source": [
    "或者使用 `np.matrix()`函数创建一个矩阵："
   ]
  },
  {
   "cell_type": "code",
   "execution_count": null,
   "metadata": {
    "pycharm": {
     "name": "#%%\n"
    }
   },
   "outputs": [],
   "source": [
    "AM = np.matrix(A)\n",
    "BM = np.matrix(B)\n",
    "CM = np.matrix(C)\n",
    "AM, BM, CM"
   ]
  },
  {
   "cell_type": "markdown",
   "metadata": {},
   "source": [
    "然后 `+`, `-`, 和 `*`的运算将遵循线性代数，而不是按元素。"
   ]
  },
  {
   "cell_type": "code",
   "execution_count": null,
   "metadata": {
    "pycharm": {
     "name": "#%%\n"
    }
   },
   "outputs": [],
   "source": [
    "# dot product\n",
    "AM * BM"
   ]
  },
  {
   "cell_type": "code",
   "execution_count": null,
   "metadata": {
    "pycharm": {
     "name": "#%%\n"
    }
   },
   "outputs": [],
   "source": [
    "AM * CM.T  # here .T means Transport that converts CM to a column vector"
   ]
  },
  {
   "cell_type": "code",
   "execution_count": null,
   "metadata": {
    "pycharm": {
     "name": "#%%\n"
    }
   },
   "outputs": [],
   "source": [
    "# inner product\n",
    "CM * CM.T  # you can also use np.inner() function"
   ]
  },
  {
   "cell_type": "code",
   "execution_count": null,
   "metadata": {
    "pycharm": {
     "name": "#%%\n"
    }
   },
   "outputs": [],
   "source": [
    "# outer product\n",
    "CM.T * CM  # you can also use np.outer() function"
   ]
  },
  {
   "cell_type": "code",
   "execution_count": null,
   "metadata": {
    "pycharm": {
     "name": "#%%\n"
    }
   },
   "outputs": [],
   "source": [
    "# Matrix addition\n",
    "CM.T + AM * CM.T"
   ]
  },
  {
   "cell_type": "markdown",
   "metadata": {},
   "source": [
    "举证的行列式和逆矩阵："
   ]
  },
  {
   "cell_type": "code",
   "execution_count": null,
   "metadata": {
    "pycharm": {
     "name": "#%%\n"
    }
   },
   "outputs": [],
   "source": [
    "# Determinant\n",
    "M = np.array([[6, 1, 2], [2, -4, 6], [3, 5, 8]])\n",
    "np.linalg.det(M)"
   ]
  },
  {
   "cell_type": "code",
   "execution_count": null,
   "metadata": {
    "pycharm": {
     "name": "#%%\n"
    }
   },
   "outputs": [],
   "source": [
    "# Inverse\n",
    "np.linalg.inv(M)"
   ]
  },
  {
   "cell_type": "markdown",
   "metadata": {},
   "source": [
    "#### 其它常用函数：\n",
    "\n",
    "Numpy还提供了大量的数学函数，如统计学函数 `np.sum()`, `np.mean()`, `np.min()`, `np.max()`, `np.std()`, `np.var()`, `np.prod()`, and `np.trace()`和三角函数。完整的数学函数的列表： [here](https://docs.scipy.org/doc/numpy-1.13.0/reference/routines.math.html)."
   ]
  },
  {
   "cell_type": "markdown",
   "metadata": {},
   "source": [
    "------\n",
    "\n",
    "### Copies and Views\n",
    "\n",
    "Python中的内存处理通常很麻烦。对于数组操作，有些操作会将数组数据复制到新数组，有些则不然。尤其是对于初学者来说，很容混淆。让我们看看什么是 _copies_ 和 _views_。\n",
    "\n",
    "#### No copy\n",
    "\n",
    "数组赋值通常不会复制数组数据，只是给数组另一个变量名。对新数组所做的更改将传递到原始数组。"
   ]
  },
  {
   "cell_type": "code",
   "execution_count": null,
   "metadata": {
    "pycharm": {
     "name": "#%%\n"
    }
   },
   "outputs": [],
   "source": [
    "D = np.array([1, 2, 3, 4, 5])\n",
    "D"
   ]
  },
  {
   "cell_type": "code",
   "execution_count": null,
   "metadata": {
    "pycharm": {
     "name": "#%%\n"
    }
   },
   "outputs": [],
   "source": [
    "D1 = D\n",
    "D1 is D"
   ]
  },
  {
   "cell_type": "code",
   "execution_count": null,
   "metadata": {
    "pycharm": {
     "name": "#%%\n"
    }
   },
   "outputs": [],
   "source": [
    "D1[0:2] = 100  # we change D1\n",
    "print(D)  # D is also changed"
   ]
  },
  {
   "cell_type": "markdown",
   "metadata": {},
   "source": [
    "记住，将一个可变异的参数作为函数的输入的时候，所传递的是reference，函数内若对传递的参数进行了修改，函数外被传递的参数的值也将被修改。可以理解为函数参数实际上传递的只是参数的名字。"
   ]
  },
  {
   "cell_type": "code",
   "execution_count": null,
   "metadata": {
    "pycharm": {
     "name": "#%%\n"
    }
   },
   "outputs": [],
   "source": [
    "def myfunc(a):\n",
    "    a[:] = -10\n",
    "\n",
    "myfunc(D)\n",
    "D"
   ]
  },
  {
   "cell_type": "markdown",
   "metadata": {},
   "source": [
    "#### View and shallow copy\n",
    "\n",
    "不同的数组可以共享相同的数据（相同的内存），并以不同的形式（例如不同的尺寸数）表示相同的数据。 这个称为`view`。"
   ]
  },
  {
   "cell_type": "code",
   "execution_count": null,
   "metadata": {
    "pycharm": {
     "name": "#%%\n"
    }
   },
   "outputs": [],
   "source": [
    "E = np.array([1, 2, 3, 4, 5, 6])\n",
    "E"
   ]
  },
  {
   "cell_type": "code",
   "execution_count": null,
   "metadata": {
    "pycharm": {
     "name": "#%%\n"
    }
   },
   "outputs": [],
   "source": [
    "E1 = E.view()\n",
    "E1"
   ]
  },
  {
   "cell_type": "code",
   "execution_count": null,
   "metadata": {
    "pycharm": {
     "name": "#%%\n"
    }
   },
   "outputs": [],
   "source": [
    "E1 is E"
   ]
  },
  {
   "cell_type": "code",
   "execution_count": null,
   "metadata": {
    "pycharm": {
     "name": "#%%\n"
    }
   },
   "outputs": [],
   "source": [
    "E1.shape = (3, 2)  # now E1's shape is 3x2\n",
    "E1.shape"
   ]
  },
  {
   "cell_type": "code",
   "execution_count": null,
   "metadata": {
    "pycharm": {
     "name": "#%%\n"
    }
   },
   "outputs": [],
   "source": [
    "E.shape"
   ]
  },
  {
   "cell_type": "code",
   "execution_count": null,
   "metadata": {
    "pycharm": {
     "name": "#%%\n"
    }
   },
   "outputs": [],
   "source": [
    "E1[0, :] = 0  # Now we change E1\n",
    "E  # E is also changed"
   ]
  },
  {
   "cell_type": "markdown",
   "metadata": {},
   "source": [
    "记住，切片操作返回一个`view`。"
   ]
  },
  {
   "cell_type": "code",
   "execution_count": null,
   "metadata": {
    "pycharm": {
     "name": "#%%\n"
    }
   },
   "outputs": [],
   "source": [
    "E2 = E[2:]\n",
    "E2"
   ]
  },
  {
   "cell_type": "code",
   "execution_count": null,
   "metadata": {
    "pycharm": {
     "name": "#%%\n"
    }
   },
   "outputs": [],
   "source": [
    "E2[:] = 0  # change E2\n",
    "E  # E also changed"
   ]
  },
  {
   "cell_type": "markdown",
   "metadata": {},
   "source": [
    "#### Deep copy\n",
    "真正的copy："
   ]
  },
  {
   "cell_type": "code",
   "execution_count": null,
   "metadata": {
    "pycharm": {
     "name": "#%%\n"
    }
   },
   "outputs": [],
   "source": [
    "E3 = E.copy()\n",
    "E3"
   ]
  },
  {
   "cell_type": "code",
   "execution_count": null,
   "metadata": {
    "pycharm": {
     "name": "#%%\n"
    }
   },
   "outputs": [],
   "source": [
    "E3[:] = 100  # E3 has been changed\n",
    "E  # E is not affected"
   ]
  },
  {
   "cell_type": "markdown",
   "metadata": {},
   "source": [
    "为组织函数改变一个数组的值，通常可以将一个数组的copy传递给函数，但是更耗内存。"
   ]
  },
  {
   "cell_type": "code",
   "execution_count": null,
   "metadata": {
    "pycharm": {
     "name": "#%%\n"
    }
   },
   "outputs": [],
   "source": [
    "myfunc(E.copy())\n",
    "E"
   ]
  },
  {
   "cell_type": "code",
   "execution_count": null,
   "metadata": {
    "pycharm": {
     "name": "#%%\n"
    }
   },
   "outputs": [],
   "source": [
    "# If we pass E directly to the function\n",
    "myfunc(E)\n",
    "E"
   ]
  },
  {
   "cell_type": "markdown",
   "metadata": {},
   "source": [
    "------\n",
    "\n",
    "### 数组的操作\n",
    "#### Flattening, reshaping and resizing\n",
    "使用`flatten` 或者 `ravel`函数可以将任意一个多维数组可以转变成一个一维数组。 前者返回一个copy或者返回view。"
   ]
  },
  {
   "cell_type": "code",
   "execution_count": null,
   "metadata": {
    "pycharm": {
     "name": "#%%\n"
    }
   },
   "outputs": [],
   "source": [
    "A"
   ]
  },
  {
   "cell_type": "code",
   "execution_count": null,
   "metadata": {
    "pycharm": {
     "name": "#%%\n"
    }
   },
   "outputs": [],
   "source": [
    "A1 = A.flatten()\n",
    "A1"
   ]
  },
  {
   "cell_type": "code",
   "execution_count": null,
   "metadata": {
    "pycharm": {
     "name": "#%%\n"
    }
   },
   "outputs": [],
   "source": [
    "# change A1\n",
    "A1[1:6] = 99\n",
    "A1"
   ]
  },
  {
   "cell_type": "code",
   "execution_count": null,
   "metadata": {
    "pycharm": {
     "name": "#%%\n"
    }
   },
   "outputs": [],
   "source": [
    "# verify A\n",
    "A"
   ]
  },
  {
   "cell_type": "code",
   "execution_count": null,
   "metadata": {
    "pycharm": {
     "name": "#%%\n"
    }
   },
   "outputs": [],
   "source": [
    "A2 = A.ravel()\n",
    "A2[1:6] = 99  # we change A2\n",
    "A  # A is changed"
   ]
  },
  {
   "cell_type": "markdown",
   "metadata": {},
   "source": [
    "np.reshape可改变数组维上的尺寸，返回的是view。尺寸改变前后数组的尺寸应保持一致，例如，数组A有16个元素，我们可以将其重构为`（4，4）`，`（2，8）`或`（2，2，4）`，而不是`（3，4）`， `（3，4）`或其他与数组大小不匹配的尺寸。"
   ]
  },
  {
   "cell_type": "code",
   "execution_count": null,
   "metadata": {
    "pycharm": {
     "name": "#%%\n"
    }
   },
   "outputs": [],
   "source": [
    "A3 = A.reshape(2, 8)\n",
    "A3"
   ]
  },
  {
   "cell_type": "code",
   "execution_count": null,
   "metadata": {
    "pycharm": {
     "name": "#%%\n"
    }
   },
   "outputs": [],
   "source": [
    "# let's introduce changes to A3\n",
    "A3[0, 1:6] = 100\n",
    "A"
   ]
  },
  {
   "cell_type": "code",
   "execution_count": null,
   "metadata": {
    "pycharm": {
     "name": "#%%\n"
    }
   },
   "outputs": [],
   "source": [
    "A4 = np.reshape(A, (2, 8))\n",
    "A4"
   ]
  },
  {
   "cell_type": "code",
   "execution_count": null,
   "metadata": {
    "pycharm": {
     "name": "#%%\n"
    }
   },
   "outputs": [],
   "source": [
    "A4[0, 1:6] = 200\n",
    "A"
   ]
  },
  {
   "cell_type": "markdown",
   "metadata": {},
   "source": [
    "也可以使用数组自带的方法进行本地操作："
   ]
  },
  {
   "cell_type": "code",
   "execution_count": null,
   "metadata": {
    "pycharm": {
     "name": "#%%\n"
    }
   },
   "outputs": [],
   "source": [
    "A.shape = (2, 8)\n",
    "A"
   ]
  },
  {
   "cell_type": "markdown",
   "metadata": {},
   "source": [
    "resize函数："
   ]
  },
  {
   "cell_type": "code",
   "execution_count": null,
   "metadata": {
    "pycharm": {
     "name": "#%%\n"
    }
   },
   "outputs": [],
   "source": [
    "F = np.array([[m + n + 1 for m in np.arange(3)] for n in np.arange(5)])  # 5 x 3 2D arrays with a size of 15\n",
    "F.resize(20)  # we change the size from 15 to 20\n",
    "F"
   ]
  },
  {
   "cell_type": "markdown",
   "metadata": {},
   "source": [
    "在resize的操作中，如果新的尺寸大于原始的尺寸，多余的元素将用`0`填补。"
   ]
  },
  {
   "cell_type": "markdown",
   "metadata": {},
   "source": [
    "#### Array axis\n",
    "对于多维数组，NumPy允许用户对特定轴（维）进行操作。"
   ]
  },
  {
   "cell_type": "code",
   "execution_count": null,
   "metadata": {
    "pycharm": {
     "name": "#%%\n"
    }
   },
   "outputs": [],
   "source": [
    "F = np.array([[m + n + 1 for m in np.arange(3)] for n in np.arange(5)])\n",
    "F"
   ]
  },
  {
   "cell_type": "code",
   "execution_count": null,
   "metadata": {
    "pycharm": {
     "name": "#%%\n"
    }
   },
   "outputs": [],
   "source": [
    "F.sum(axis=1)"
   ]
  },
  {
   "cell_type": "markdown",
   "metadata": {},
   "source": [
    "可以通过添加一个新的轴来升级数组的维数，如一维数组提升到2维数组，如下面的5个元素的一维数组被提升为5x1的二维数组。"
   ]
  },
  {
   "cell_type": "code",
   "execution_count": null,
   "metadata": {
    "pycharm": {
     "name": "#%%\n"
    }
   },
   "outputs": [],
   "source": [
    "F = np.array([1, 2, 3, 4, 5])\n",
    "F"
   ]
  },
  {
   "cell_type": "code",
   "execution_count": null,
   "metadata": {
    "pycharm": {
     "name": "#%%\n"
    }
   },
   "outputs": [],
   "source": [
    "F.shape"
   ]
  },
  {
   "cell_type": "code",
   "execution_count": null,
   "metadata": {
    "pycharm": {
     "name": "#%%\n"
    }
   },
   "outputs": [],
   "source": [
    "F[:, np.newaxis]"
   ]
  },
  {
   "cell_type": "code",
   "execution_count": null,
   "metadata": {
    "pycharm": {
     "name": "#%%\n"
    }
   },
   "outputs": [],
   "source": [
    "F[:, np.newaxis].shape"
   ]
  },
  {
   "cell_type": "markdown",
   "metadata": {},
   "source": [
    "#### Stacking, splitting and repeating arrays\n",
    "使用`vstack`、`hstack` 和 `concatenate` 函数可以将多个数组沿不同的轴堆叠起来。 `vstack` 和 `hstack` 分别用来将两个数组沿竖直方向和水平方向堆叠起来。`concatenate` 用来在指定的轴（维）上堆叠数组。"
   ]
  },
  {
   "cell_type": "code",
   "execution_count": null,
   "metadata": {
    "pycharm": {
     "name": "#%%\n"
    }
   },
   "outputs": [],
   "source": [
    "a = np.array([[1, 2, 3], [4, 5, 6]])\n",
    "b = np.array([[10, 20, 30], [40, 50, 60]])\n",
    "np.vstack([a, b])"
   ]
  },
  {
   "cell_type": "code",
   "execution_count": null,
   "metadata": {
    "pycharm": {
     "name": "#%%\n"
    }
   },
   "outputs": [],
   "source": [
    "np.hstack([a, b])"
   ]
  },
  {
   "cell_type": "code",
   "execution_count": null,
   "metadata": {
    "pycharm": {
     "name": "#%%\n"
    }
   },
   "outputs": [],
   "source": [
    "np.concatenate((a, b), axis=0)"
   ]
  },
  {
   "cell_type": "code",
   "execution_count": null,
   "metadata": {
    "pycharm": {
     "name": "#%%\n"
    }
   },
   "outputs": [],
   "source": [
    "np.concatenate((a, b), axis=1)"
   ]
  },
  {
   "cell_type": "markdown",
   "metadata": {},
   "source": [
    "同样的，可以使用`vsplit` 和 `hsplit`函数将一个数组分裂成多个尺寸相等的数组。"
   ]
  },
  {
   "cell_type": "code",
   "execution_count": null,
   "metadata": {
    "pycharm": {
     "name": "#%%\n"
    }
   },
   "outputs": [],
   "source": [
    "np.vsplit(a, 2)  # split into 2 arrays"
   ]
  },
  {
   "cell_type": "code",
   "execution_count": null,
   "metadata": {
    "pycharm": {
     "name": "#%%\n"
    }
   },
   "outputs": [],
   "source": [
    "np.hsplit(a, 3)  # split into 3 arrays"
   ]
  },
  {
   "cell_type": "code",
   "execution_count": null,
   "metadata": {
    "pycharm": {
     "name": "#%%\n"
    }
   },
   "outputs": [],
   "source": [
    "np.hsplit(a, (1, 2))  # split after the first and second column"
   ]
  },
  {
   "cell_type": "markdown",
   "metadata": {},
   "source": [
    "使用`repeat` 和 `tile` 函数可以通过堆叠重复的数组组成更大的新数组。"
   ]
  },
  {
   "cell_type": "code",
   "execution_count": null,
   "metadata": {
    "pycharm": {
     "name": "#%%\n"
    }
   },
   "outputs": [],
   "source": [
    "np.repeat(a, 3)  # Repeat a by 3 times"
   ]
  },
  {
   "cell_type": "code",
   "execution_count": null,
   "metadata": {
    "pycharm": {
     "name": "#%%\n"
    }
   },
   "outputs": [],
   "source": [
    "np.tile(a, 3)  # 3 tiles"
   ]
  },
  {
   "cell_type": "code",
   "execution_count": null,
   "metadata": {
    "pycharm": {
     "name": "#%%\n"
    }
   },
   "outputs": [],
   "source": [
    "# clone a row vector 3 times to form a 2D array\n",
    "b = np.array([1, 2, 3, 4, 5])\n",
    "np.repeat(b[np.newaxis, :], 3, 0)"
   ]
  },
  {
   "cell_type": "code",
   "execution_count": null,
   "metadata": {
    "pycharm": {
     "name": "#%%\n"
    }
   },
   "outputs": [],
   "source": [
    "# Or use the tile function\n",
    "np.tile(b, (3, 1))  # repeat b 3 times in row and 1 in column"
   ]
  },
  {
   "cell_type": "markdown",
   "metadata": {},
   "source": [
    "#### Conditions\n",
    "实际问题中经常会碰到有选择性的处理数组中的数据。`np.where`函数可以用来实现此操作。"
   ]
  },
  {
   "cell_type": "code",
   "execution_count": null,
   "metadata": {
    "pycharm": {
     "name": "#%%\n"
    }
   },
   "outputs": [],
   "source": [
    "c = np.array([[m + n + 1 for m in np.arange(8)] for n in np.arange(3)])\n",
    "c"
   ]
  },
  {
   "cell_type": "code",
   "execution_count": null,
   "metadata": {
    "pycharm": {
     "name": "#%%\n"
    }
   },
   "outputs": [],
   "source": [
    "# If 8 > value > 3, set value = 1;\n",
    "c[np.where((c > 3) & (c < 8))] = 1\n",
    "c"
   ]
  },
  {
   "cell_type": "code",
   "execution_count": null,
   "metadata": {
    "pycharm": {
     "name": "#%%\n"
    }
   },
   "outputs": [],
   "source": [
    "# another array that has the same shape\n",
    "d = np.array([[m + n - 2 for m in np.arange(8)] for n in np.arange(3)])\n",
    "d"
   ]
  },
  {
   "cell_type": "code",
   "execution_count": null,
   "metadata": {
    "pycharm": {
     "name": "#%%\n"
    }
   },
   "outputs": [],
   "source": [
    "# get the bigger elements of two arrays\n",
    "np.where(c > d, c, d)  # if condition is true, take element from c, otherwise from d."
   ]
  },
  {
   "cell_type": "markdown",
   "metadata": {},
   "source": [
    "#### Broadcasting\n",
    "Broadcasting 是Numpy的一个强大功能。如前所述，Numpy中的数组操作是按元素进行的，并且数组的尺寸大小需相同。但是，为了节省内存和方便计算，Numpy允许在一些特定规则下对不同大小的数组执行操作。这种操作称为_broadcasting_。它允许具有不同维度的数组可进行数学运算操作，如一个3x2的数组可以和一个1x2的数组相加。\n",
    "\n",
    "若遵循以下两个规则，则可以进行Broadcasting操作：\n",
    "\n",
    "*如果两个数组的维数不同（例如，形状（3，4）和形状（4）），则较小数组的维数将自动增加1，直到所有数组的维数相同（例如形状（4）->形状（1、4））\n",
    "\n",
    "*上述操作是的两个数组的维数相等，但每个维数上的尺寸还不相等。第二步，针对较小数组，从尾部维数开始，与较大尺寸的数组进行比较，如果维度尺寸为1，则自动将该维度上的尺寸增加至与较大数组的尺寸相等\n",
    "\n",
    "请看如下例子："
   ]
  },
  {
   "cell_type": "code",
   "execution_count": null,
   "metadata": {
    "pycharm": {
     "name": "#%%\n"
    }
   },
   "outputs": [],
   "source": [
    "a1 = np.array([[m + n for m in np.arange(8)] for n in np.arange(3)])  # shape (3, 8)\n",
    "a1"
   ]
  },
  {
   "cell_type": "code",
   "execution_count": null,
   "metadata": {
    "pycharm": {
     "name": "#%%\n"
    }
   },
   "outputs": [],
   "source": [
    "a2 = np.arange(8)  # shape (8,)\n",
    "a2"
   ]
  },
  {
   "cell_type": "code",
   "execution_count": null,
   "metadata": {
    "pycharm": {
     "name": "#%%\n"
    }
   },
   "outputs": [],
   "source": [
    "a1 + a2  # a1 and a2 have different shapes, but we can still perform operations"
   ]
  },
  {
   "cell_type": "markdown",
   "metadata": {},
   "source": [
    "为详细了解broadcasting的工作原理，我们将整个过程分步来实现，首先利用上述第一个规则："
   ]
  },
  {
   "cell_type": "code",
   "execution_count": null,
   "metadata": {
    "pycharm": {
     "name": "#%%\n"
    }
   },
   "outputs": [],
   "source": [
    "a2 = a2[np.newaxis, :]  # see np.newaxis examples in previous sections\n",
    "a2.shape"
   ]
  },
  {
   "cell_type": "markdown",
   "metadata": {},
   "source": [
    "通过添加一个轴（维），数组a2变成了二维数组，与a1一样了。但是每个维度上的尺寸是不一样的。接下来我们进行第二步操作。\n",
    "\n",
    "从尾部维度开始比较，第一维度都是8。然后比较第二维度，a1是3，然后a2是1，其尺寸不同。为将a2的第一个轴的尺寸从变成3，我们用np.repeat()函数将数组沿着第一轴重复3次："
   ]
  },
  {
   "cell_type": "code",
   "execution_count": null,
   "metadata": {
    "pycharm": {
     "name": "#%%\n"
    }
   },
   "outputs": [],
   "source": [
    "a2 = np.repeat(a2, 3, 0)\n",
    "a2"
   ]
  },
  {
   "cell_type": "code",
   "execution_count": null,
   "metadata": {
    "pycharm": {
     "name": "#%%\n"
    }
   },
   "outputs": [],
   "source": [
    "# now a1 and a2 have the same shapes\n",
    "a1 + a2"
   ]
  },
  {
   "cell_type": "markdown",
   "metadata": {},
   "source": [
    "#### Vectorisation（向量化）\n",
    "向量化是NumPy中的核心要素。到目前为止，其实我们已经通过使用内置的NumPy函数（例如np.add（），np.dot（）和np.multiply（ ）`），它们的操作都是向量化操作。这些操作以元素方式进行，但是多个元素并列进行，进而加快速度。让我们比较一下逐个元素操作和向量化操作的性能区别，以$f(x, y) = x^2 + y^2$这个计算为例:"
   ]
  },
  {
   "cell_type": "code",
   "execution_count": null,
   "metadata": {
    "pycharm": {
     "name": "#%%\n"
    }
   },
   "outputs": [],
   "source": [
    "def python_f(x, y):\n",
    "    return [x**2 + y**2 for (x, y) in zip(x, y)]\n",
    "\n",
    "\n",
    "def numpy_f(x, y):\n",
    "    return x**2 + y**2"
   ]
  },
  {
   "cell_type": "markdown",
   "metadata": {},
   "source": [
    "接下来我们计算1000个数的平方和来测试下两种方法的速度："
   ]
  },
  {
   "cell_type": "code",
   "execution_count": null,
   "metadata": {
    "pycharm": {
     "name": "#%%\n"
    }
   },
   "outputs": [],
   "source": [
    "# Python\n",
    "x, y = range(1000), range(1000)\n",
    "%timeit python_f(x, y)"
   ]
  },
  {
   "cell_type": "code",
   "execution_count": null,
   "metadata": {
    "pycharm": {
     "name": "#%%\n"
    }
   },
   "outputs": [],
   "source": [
    "# NumPy\n",
    "x, y = np.arange(1000), np.arange(1000)\n",
    "%timeit numpy_f(x, y)"
   ]
  },
  {
   "cell_type": "markdown",
   "metadata": {},
   "source": [
    "通过向量化for循环，NumPy版本的速度明显远快于Python的版本。所以，尽可能避免在Python中使用for循环来对大的数组进行计算和操作。除了向量化直接的算术运算外，我们还可以使用诸如np.where等之类的NumPy函数对具有条件逻辑的代码进行向量化，请参考以下示例："
   ]
  },
  {
   "cell_type": "code",
   "execution_count": 7,
   "metadata": {
    "pycharm": {
     "name": "#%%\n"
    }
   },
   "outputs": [],
   "source": [
    "# Python version\n",
    "def python_f2(x, mask):\n",
    "    for i in range(x.shape[0]):\n",
    "        for j in range(x.shape[1]):\n",
    "            if mask[i, j] > 0.6:\n",
    "                x[i, j] = 1.\n",
    "            elif mask[i, j] < 0.3:\n",
    "                x[i, j] = -1.\n",
    "            else:\n",
    "                x[i, j] = 0.\n",
    "\n",
    "\n",
    "# NumPy version\n",
    "def numpy_f2(x, mask):\n",
    "    x[np.where(mask > 0.6)] = 1.\n",
    "    x[np.where(mask < 0.3)] = -1.\n",
    "    x[np.where(np.logical_and(mask <= 0.6, mask >= 0.3))] = 0."
   ]
  },
  {
   "cell_type": "code",
   "execution_count": 8,
   "metadata": {
    "pycharm": {
     "name": "#%%\n"
    }
   },
   "outputs": [
    {
     "name": "stdout",
     "output_type": "stream",
     "text": [
      "38.4 ms ± 19.8 µs per loop (mean ± std. dev. of 7 runs, 10 loops each)\n"
     ]
    }
   ],
   "source": [
    "X = np.arange(100000).reshape(1000, 100)\n",
    "mask = np.random.rand(1000, 100)\n",
    "%timeit python_f2(X, mask)"
   ]
  },
  {
   "cell_type": "code",
   "execution_count": 9,
   "metadata": {
    "pycharm": {
     "name": "#%%\n"
    }
   },
   "outputs": [
    {
     "name": "stdout",
     "output_type": "stream",
     "text": [
      "1.94 ms ± 5.35 µs per loop (mean ± std. dev. of 7 runs, 1000 loops each)\n"
     ]
    }
   ],
   "source": [
    "%timeit numpy_f2(X, mask)"
   ]
  },
  {
   "cell_type": "markdown",
   "metadata": {},
   "source": [
    "上面描述的两个例子是相对简单的向量化例子，所要解决的问题相对简单且向量化很明显。但是，在许多实际情况下，问题的可向量化性是不明显的，这就需要用户带着向量化的思想重新审视问题，并重构解决问题的思路，或者通过使用其他算法或发明新算法使其可向量化。这不仅需要对NumPy有深刻的理解，还需要在解决此类问题上的大量实践经验。\n",
    "\n",
    "让我们考虑一个相对复杂的计算问题：计算$A[i，j]\\times i \\times j$的总和，其中$A[i，j]$是2D数组，$i，j$是索引。简单的实现可以写成："
   ]
  },
  {
   "cell_type": "code",
   "execution_count": 10,
   "metadata": {
    "pycharm": {
     "name": "#%%\n"
    }
   },
   "outputs": [],
   "source": [
    "def python_f3(A):\n",
    "    val = 0.\n",
    "    for i in range(A.shape[0]):\n",
    "        for j in range(A.shape[1]):\n",
    "            val += A[i, j] * i * j\n",
    "    return val"
   ]
  },
  {
   "cell_type": "code",
   "execution_count": 11,
   "metadata": {
    "pycharm": {
     "name": "#%%\n"
    }
   },
   "outputs": [
    {
     "name": "stdout",
     "output_type": "stream",
     "text": [
      "18.7 ms ± 55.7 µs per loop (mean ± std. dev. of 7 runs, 100 loops each)\n"
     ]
    }
   ],
   "source": [
    "A = np.arange(30000, dtype=np.float64).reshape(300, 100)\n",
    "%timeit python_f3(A)"
   ]
  },
  {
   "cell_type": "code",
   "execution_count": null,
   "metadata": {
    "pycharm": {
     "name": "#%%\n"
    }
   },
   "outputs": [],
   "source": [
    "def numpy_f3(A):\n",
    "    idx_i = np.tile(np.arange(A.shape[0])[:, np.newaxis], (1, A.shape[1]))\n",
    "    idx_j = np.tile(np.arange(A.shape[1]), (A.shape[0], 1))\n",
    "    return np.sum(np.sum(A * idx_i * idx_j))\n",
    "\n",
    "%timeit numpy_f3(A)"
   ]
  },
  {
   "cell_type": "markdown",
   "metadata": {},
   "source": [
    "现在向量化的版本的速度提高了约120倍（不同计算机上此数值可能不同）。 为了使$A[i，j] * i * j$的计算过程可向量化，我们构造了两个新的二维数组idx_i和idx_j，它们的形状与数组A相同，其中的元素为数组A的元素所对应的索引号值。如之前所讲的，尺寸相同的数组间的加减乘除是向量化操作。\n",
    "\n",
    "我们甚至可以通过使用`broadcasting`使代码更好。 “ idx_i”和“ idx_j”是2D数组，分别由列和行中的重复向量组成。 因此，我们不必构造两个二维数组“ idx_i”和“ idx_j”，只需要构造两个一维数组即可，因为NumPy自动使用broadcasting的操作将它们变为二维数组。请参考下面代码："
   ]
  },
  {
   "cell_type": "code",
   "execution_count": null,
   "metadata": {
    "pycharm": {
     "name": "#%%\n"
    }
   },
   "outputs": [],
   "source": [
    "def numpy_f3_bd(A):\n",
    "    idx_i = np.arange(A.shape[0])[:, np.newaxis]\n",
    "    idx_j = np.arange(A.shape[1])\n",
    "    return np.sum(np.sum(A * idx_i * idx_j))\n",
    "\n",
    "%timeit numpy_f3_bd(A)"
   ]
  },
  {
   "cell_type": "markdown",
   "metadata": {},
   "source": [
    "更好的版本意味着：额外的〜1.5倍性能提升和更少的代码。\n",
    "\n",
    "很明显，向量化可以在许多情况下能提高计算性能。直接的代码实现一般在逻辑上更清晰，代码也更容易实现，但却降低了计算效率。如果计算速度是重要的关心点，则首先尝试重新考虑和重构问题，找到逻辑上可能复杂但代码速度更高的替代方法。然后，如有可能，优化代码的特定部分（函数，循环等）使代码更优。"
   ]
  },
  {
   "cell_type": "markdown",
   "metadata": {},
   "source": [
    "------\n",
    "\n",
    "### More reading\n",
    "* [Scipy lectures - NumPy](https://www.scipy-lectures.org/intro/numpy/index.html)\n",
    "* [NumPy User Guide](https://docs.scipy.org/doc/numpy/user/index.html)\n",
    "* [From Python to NumPy](https://github.com/rougier/from-python-to-numpy)"
   ]
  }
 ],
 "metadata": {
  "kernelspec": {
   "display_name": "Python 3",
   "language": "python",
   "name": "python3"
  },
  "language_info": {
   "codemirror_mode": {
    "name": "ipython",
    "version": 3
   },
   "file_extension": ".py",
   "mimetype": "text/x-python",
   "name": "python",
   "nbconvert_exporter": "python",
   "pygments_lexer": "ipython3",
   "version": "3.7.9"
  }
 },
 "nbformat": 4,
 "nbformat_minor": 1
}