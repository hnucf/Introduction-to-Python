{
 "cells": [
  {
   "cell_type": "markdown",
   "metadata": {
    "collapsed": true,
    "pycharm": {
     "name": "#%% md\n"
    }
   },
   "source": [
    "## Files I/O\n",
    "\n",
    "### 屏幕输出\n",
    "\n",
    "Python中最简单的输出的方式为print函数，可以将多个结果打印到显示器，各个结果之间可用逗号分开："
   ]
  },
  {
   "cell_type": "code",
   "execution_count": null,
   "metadata": {
    "pycharm": {
     "name": "#%%\n"
    }
   },
   "outputs": [],
   "source": [
    "print(\"Python is a general language\", \",\", \"and can be used in many areas.\")"
   ]
  },
  {
   "cell_type": "markdown",
   "metadata": {
    "pycharm": {
     "name": "#%% md\n"
    }
   },
   "source": [
    "也可以输出变量的值："
   ]
  },
  {
   "cell_type": "code",
   "execution_count": null,
   "metadata": {
    "pycharm": {
     "name": "#%%\n"
    }
   },
   "outputs": [],
   "source": [
    "a = 5.0\n",
    "b = 4.0\n",
    "print(\"a + b = \", a+b)"
   ]
  },
  {
   "cell_type": "markdown",
   "metadata": {
    "pycharm": {
     "name": "#%% md\n"
    }
   },
   "source": [
    "### 键盘输入\n",
    "input函数: 读取标准输入的一行然后将结果以字符串的方式返回："
   ]
  },
  {
   "cell_type": "code",
   "execution_count": null,
   "metadata": {
    "pycharm": {
     "name": "#%%\n"
    }
   },
   "outputs": [],
   "source": [
    "first_name = input(\"Enter your first name: \")\n",
    "last_name = input(\"Enter your last name: \")\n",
    "print(\"Your name is \", first_name, last_name)"
   ]
  },
  {
   "cell_type": "markdown",
   "metadata": {
    "pycharm": {
     "name": "#%% md\n"
    }
   },
   "source": [
    "### 文件打开和关闭\n",
    "\n",
    "#### open()函数\n",
    "在Python中，若需要对一个文件进行诸如读取信息、写入信息等操作时，第一步通常是通过open函数打开目标文件来创建一个File对象。File对象中的属性不仅包含了\n",
    "所打开文件的一些属性信息，而且其方法（函数）可以实现对文件内容的操作。open函数的语法结构如下：\n",
    "\n",
    "```file object = open(file_name, access_mode, buffering)```\n",
    "\n",
    "其中：\n",
    "* file_name为被操作的文件的文件名称，为字符串\n",
    "* access_mode为打开文件的模式，如只读、读写等，详细情况请见下表\n",
    "\n",
    "| 模式 | 描述  |\n",
    "| :---- | :---- |\n",
    "|  t  | 文本模式（默认） |\n",
    "|  x  | 写文件模式，新建一个文件，如文件名已经存在，则报错 |\n",
    "|  b  | 二进制模式 |\n",
    "|  r  | 只读模式，无法写入和改写内容。文件的指针会放在文件的开头。 |\n",
    "|  rb  | 以二进制格式打开一个文件用于只读。文件指针将会放在文件的开头。这是默认模式。一般用于非文本文件如图片等。） |\n",
    "|  r+  | 打开一个文件进行读写操作，文件指针会放在文件开头 |\n",
    "|  rb+  | 以二进制的格式打开一个文件进行读写操作，文件指针会放在文件开头 |\n",
    "|  w  | 打开一个文件进行写操作，如果文件名已经存在，原文件将被覆盖。若原文件不存在，则创建一个新的文件 |\n",
    "|  wb  | 以二进制的格式打开一个文件进行写操作，如果文件名已经存在，原文件将被覆盖。若原文件不存在，则创建一个新的文件 |\n",
    "|  w+  | 打开一个文件进行读写操作，如果文件名已经存在，原文件将被覆盖。若原文件不存在，则创建一个新的文件 |\n",
    "|  wb+  | 以二进制的格式打开一个文件进行都写操作，如果文件名已经存在，原文件将被覆盖。若原文件不存在，则创建一个新的文件 |\n",
    "|  a  |  打开一个文件用于追加。如果该文件已存在，文件指针将会放在文件的结尾，若文件不为空，新写入的内容将放在原有内容的后面，原内容不会被覆盖。若文件不存在，则创建一个新文件 |\n",
    "|  ab  |  以二进制格式打开一个文件用于追加。如果该文件已存在，文件指针将会放在文件的结尾，若文件不为空，新写入的内容将放在原有内容的后面，原内容不会被覆盖。若文件不存在，则创建一个新文件 |\n",
    "|  a+  |  打开一个文件用于读写，方式为追加。如果该文件已存在，文件指针将会放在文件的结尾，若文件不为空，新写入的内容将放在原有内容的后面，原内容不会被覆盖。若文件不存在，则创建一个新文件 |\n",
    "|  ab+  |  以二进制格式打开一个文件用于读写，方式为追加。如果该文件已存在，文件指针将会放在文件的结尾，若文件不为空，新写入的内容将放在原有内容的后面，原内容不会被覆盖。若文件不存在，则创建一个新文件 |\n",
    "\n",
    "* buffering：0表示不使用缓冲区，有一个数据立即写入文件，不建议使用，此模式支支持二进制模式，文本模式下不可用。1表示使用缓冲，只在文本模式下使用，按照一个换行来进行缓冲。\n",
    "-1表示使用系统的默认的缓冲区的大小。>1在二进制模式下使用，表示缓冲区的大小。"
   ]
  },
  {
   "cell_type": "markdown",
   "metadata": {
    "pycharm": {
     "name": "#%% md\n"
    }
   },
   "source": [
    "#### File对象的属性\n",
    "\n",
    "在使用open函数时其返回值为一个File对象（object），它存储了所打开文件的一些具体信息：\n",
    "\n",
    "| 模式 | 描述  |\n",
    "| :---- | :---- |\n",
    "|  file.closed  | 返回true如果文件已被关闭，否则返回false |\n",
    "|  file.mode  | 返回被打开文件的访问模式 |\n",
    "|  file.name  | 返回文件的名称 |"
   ]
  },
  {
   "cell_type": "code",
   "execution_count": null,
   "metadata": {
    "pycharm": {
     "name": "#%%\n"
    }
   },
   "outputs": [],
   "source": [
    "f1 = open(\".\\misc\\IO.txt\", \"r\")\n",
    "print(\"文件名：\", f1.name)\n",
    "print(\"是否已经关闭？ \", f1.closed)\n",
    "print(\"访问模式：\", f1.mode)"
   ]
  },
  {
   "cell_type": "markdown",
   "metadata": {
    "pycharm": {
     "name": "#%% md\n"
    }
   },
   "source": [
    "#### close()方法\n",
    "\n",
    "close()方法清理掉缓冲区还未写入文件的数据，并关闭该文件，之后将不能读取信息和写入数据："
   ]
  },
  {
   "cell_type": "code",
   "execution_count": null,
   "metadata": {
    "pycharm": {
     "name": "#%%\n"
    }
   },
   "outputs": [],
   "source": [
    "f1.close()\n",
    "print(\"是否已经关闭？ \", f1.closed)"
   ]
  },
  {
   "cell_type": "markdown",
   "metadata": {
    "pycharm": {
     "name": "#%% md\n"
    }
   },
   "source": [
    "### 文件读写\n",
    "#### 读取文件\n",
    "\n",
    "read()方法用来读取文件中的一个字符。在括号中指定字符串的个数可以读取多个字符串："
   ]
  },
  {
   "cell_type": "code",
   "execution_count": null,
   "metadata": {
    "pycharm": {
     "name": "#%%\n"
    }
   },
   "outputs": [],
   "source": [
    "f1 = open(\".\\misc\\IO.txt\", \"r\",  encoding='utf-8')\n",
    "str = f1.read(12)\n",
    "print(\"所读取的内容为：\", str)\n",
    "f1.close()\n"
   ]
  },
  {
   "cell_type": "markdown",
   "metadata": {},
   "source": [
    "#### 写入文件\n",
    "\n",
    "write()方法可将任何字符串写入一个打开的文件。值得注意的是它不会自动在字符串末尾添加换行符（\"\\n\"）："
   ]
  },
  {
   "cell_type": "code",
   "execution_count": null,
   "metadata": {
    "pycharm": {
     "name": "#%%\n"
    }
   },
   "outputs": [],
   "source": [
    "f1 = open(\".\\misc\\IO.txt\", \"w\",  encoding='utf-8')\n",
    "f1.write(\"Python可以用于多个领域，比如：\\n 科学计算\\n 人工智能\\n 云计算\\n\")\n",
    "f1.close()"
   ]
  },
  {
   "cell_type": "markdown",
   "metadata": {},
   "source": [
    "#### 文件定位\n",
    "\n",
    "tell(): 文件位置指针记录当前位置指针在文件中的位置,用tell方法可获得，下一次读写将从位置指针所在的地方开始。\n",
    "seek(offset [,from])方法可改变位置指针的位置。Offset变量表示要移动的字节数。From变量指定位置指针开始移动的参考位置。如果from被设为0，这意味着将文件的开头作为移动字节的参考位置。如果设为1，则使用当前的位置作为参考位置。如果它被设为2，那么该文件的末尾将作为参考位置。\n",
    "例如："
   ]
  },
  {
   "cell_type": "code",
   "execution_count": null,
   "metadata": {
    "pycharm": {
     "name": "#%%\n"
    }
   },
   "outputs": [],
   "source": [
    "f1 = open(\".\\misc\\IO.txt\", \"r\",  encoding='utf-8')\n",
    "pos = f1.tell()\n",
    "print(\"刚打开文件时的位置：\", pos)"
   ]
  },
  {
   "cell_type": "code",
   "execution_count": null,
   "metadata": {
    "pycharm": {
     "name": "#%%\n"
    }
   },
   "outputs": [],
   "source": [
    "str = f1.read(6)\n",
    "pos = f1.tell()\n",
    "print(\"读取的内容：\", str)\n",
    "print(\"读取6个字符后的位置：\", pos)"
   ]
  },
  {
   "cell_type": "code",
   "execution_count": null,
   "metadata": {
    "pycharm": {
     "name": "#%%\n"
    }
   },
   "outputs": [],
   "source": [
    "str = f1.read(8)\n",
    "pos = f1.tell()\n",
    "print(\"读取的内容：\", str)\n",
    "print(\"接着读取8个字符后的位置：\", pos)"
   ]
  },
  {
   "cell_type": "code",
   "execution_count": null,
   "outputs": [],
   "source": [
    "pos = f1.seek(0, 0)\n",
    "str = f1.read(6)\n",
    "print(\"将位置调整到文件开始后读取的内容：\", str)"
   ],
   "metadata": {
    "collapsed": false,
    "pycharm": {
     "name": "#%%\n"
    }
   }
  },
  {
   "cell_type": "markdown",
   "source": [
    "### 文件重命名\n",
    "os.rename(current_file_name, new_file_name)"
   ],
   "metadata": {
    "collapsed": false
   }
  },
  {
   "cell_type": "code",
   "execution_count": null,
   "outputs": [],
   "source": [
    "import os\n",
    "f1 = open(\"test1.txt\", \"w\",  encoding='utf-8')\n",
    "f1.close()\n",
    "os.rename(\"test1.txt\", \"test2.txt\")"
   ],
   "metadata": {
    "collapsed": false,
    "pycharm": {
     "name": "#%%\n"
    }
   }
  },
  {
   "cell_type": "markdown",
   "source": [
    "### 删除文件\n",
    "\n",
    "os.remove(file_name)"
   ],
   "metadata": {
    "collapsed": false
   }
  },
  {
   "cell_type": "code",
   "execution_count": null,
   "outputs": [],
   "source": [
    "import os\n",
    "os.remove(\"test2.txt\")"
   ],
   "metadata": {
    "collapsed": false,
    "pycharm": {
     "name": "#%%\n"
    }
   }
  },
  {
   "cell_type": "markdown",
   "source": [
    "### 创建文件夹\n",
    "\n",
    "os.mkdir(\"dir_name\")"
   ],
   "metadata": {
    "collapsed": false
   }
  },
  {
   "cell_type": "code",
   "execution_count": null,
   "outputs": [],
   "source": [
    "import os\n",
    "os.mkdir(\"new_project\")"
   ],
   "metadata": {
    "collapsed": false,
    "pycharm": {
     "name": "#%%\n"
    }
   }
  },
  {
   "cell_type": "markdown",
   "source": [
    "### 删除文件夹\n",
    "\n",
    "os.rmdir('dir_name')"
   ],
   "metadata": {
    "collapsed": false
   }
  },
  {
   "cell_type": "code",
   "execution_count": null,
   "outputs": [],
   "source": [
    "import os\n",
    "os.rmdir('new_project')"
   ],
   "metadata": {
    "collapsed": false,
    "pycharm": {
     "name": "#%%\n"
    }
   }
  },
  {
   "cell_type": "markdown",
   "source": [
    "### 获取当前文件夹\n",
    "\n",
    "os.getcwd()"
   ],
   "metadata": {
    "collapsed": false
   }
  },
  {
   "cell_type": "code",
   "execution_count": null,
   "outputs": [],
   "source": [
    "import os\n",
    "os.getcwd()"
   ],
   "metadata": {
    "collapsed": false,
    "pycharm": {
     "name": "#%%\n"
    }
   }
  },
  {
   "cell_type": "markdown",
   "source": [
    "### Numpy I/O\n",
    "\n",
    "#### numpy读写文本文件\n",
    "\n",
    "Numpy可以将数据存储为文本文件，也可以从文本中读取数据，但缺点是只能读写一维和二位数组，且没有追加模式，即每次存储都会覆盖之前的数据。"
   ],
   "metadata": {
    "collapsed": false
   }
  },
  {
   "cell_type": "code",
   "execution_count": null,
   "outputs": [],
   "source": [
    "import numpy as np\n",
    "\n",
    "a = np.array(range(40)).reshape((5, 8))\n",
    "print(a)\n",
    "\n",
    "# 写文件\n",
    "filename = './misc/numpy.csv'\n",
    "np.savetxt(filename, a, fmt='%d', delimiter=',')\n",
    "\n",
    "# 读文件\n",
    "b = np.loadtxt(filename, dtype=np.int32, delimiter=',')\n",
    "print(b)"
   ],
   "metadata": {
    "collapsed": false,
    "pycharm": {
     "name": "#%%\n"
    }
   }
  },
  {
   "cell_type": "markdown",
   "source": [
    "#### 读写 npy 文件\n",
    "\n",
    "npy格式是numpy的固有格式 其优点为：\n",
    "\n",
    "* npy 文件可以保存任意维度的 numpy 数组，不限于一维和二维；\n",
    "* npy 保存了numpy数组的结构，即shape和dtype保存的时候是什么样，取出来时就是什么样。\n",
    "\n",
    "缺点：只能保存一个 numpy 数组，每次保存会覆盖掉之前文件中存在的内容。"
   ],
   "metadata": {
    "collapsed": false,
    "pycharm": {
     "name": "#%% md\n"
    }
   }
  },
  {
   "cell_type": "code",
   "source": [
    "import numpy as np\n",
    "\n",
    "a = np.array(range(40)).reshape((4, 5, 2))\n",
    "print(a)\n",
    "\n",
    "# 写文件\n",
    "filename = './misc/numpy.npy'\n",
    "np.save(filename, a)\n",
    "\n",
    "# 读文件\n",
    "b = np.load(filename)\n",
    "print(b)\n",
    "print(b.shape)"
   ],
   "metadata": {
    "collapsed": false,
    "pycharm": {
     "name": "#%%\n"
    }
   },
   "execution_count": null,
   "outputs": []
  },
  {
   "cell_type": "markdown",
   "source": [
    "#### 读写 npz 文件\n",
    "\n",
    "优点：在npy格式优点的基础上，可以同时保存多个 numpy 数组，并且可以指定保存 numpy 数组的 key，读取的时候很方便，不会混乱。\n",
    "缺点：保存多个 numpy 数组时，只能同时保存，每次保存会覆盖掉之前文件中存在的内容。"
   ],
   "metadata": {
    "collapsed": false
   }
  },
  {
   "cell_type": "code",
   "execution_count": null,
   "outputs": [],
   "source": [
    "import numpy as np\n",
    "\n",
    "data1 = np.array(range(40)).reshape((4, 5, 2))\n",
    "data2 = np.array(range(20)).reshape((4, 5))\n",
    "\n",
    "# 写文件\n",
    "filename = './misc/numpy.npz'\n",
    "np.savez(filename, a1=data1, a2=data2)\n",
    "\n",
    "# 读文件\n",
    "data = np.load(filename)\n",
    "print('keys of numpy.npz file:\\n', list(data.keys()))\n",
    "print(\"data['a1']:\\n\", data['a1'])\n",
    "print(\"data['a2']:\\n\", data['a2'])"
   ],
   "metadata": {
    "collapsed": false,
    "pycharm": {
     "name": "#%%\n"
    }
   }
  },
  {
   "cell_type": "code",
   "execution_count": null,
   "metadata": {},
   "outputs": [],
   "source": [
    "import numpy as np\n",
    "\n",
    "a = np.array(range(40)).reshape((4, 5, 2))\n",
    "print(a)\n",
    "\n",
    "# 写文件\n",
    "filename = './misc/numpy.npy'\n",
    "np.save(filename, a)\n",
    "\n",
    "# 读文件\n",
    "b = np.load(filename)\n",
    "print(b)\n",
    "print(b.shape)"
   ]
  }
 ],
 "metadata": {
  "kernelspec": {
   "display_name": "Python 3",
   "language": "python",
   "name": "python3"
  },
  "language_info": {
   "codemirror_mode": {
    "name": "ipython",
    "version": 3
   },
   "file_extension": ".py",
   "mimetype": "text/x-python",
   "name": "python",
   "nbconvert_exporter": "python",
   "pygments_lexer": "ipython3",
   "version": "3.7.9"
  }
 },
 "nbformat": 4,
 "nbformat_minor": 1
}