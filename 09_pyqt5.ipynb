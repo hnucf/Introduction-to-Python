{
 "cells": [
  {
   "cell_type": "markdown",
   "metadata": {
    "pycharm": {
     "name": "#%% md\n"
    }
   },
   "source": [
    "### 安装PyQt5\n",
    "\n",
    "``` conda install -n py3_class pyqt ```\n",
    "\n",
    "检查虚拟环境下是否安装了PyQt，在命令行窗口中使用：\n",
    "\n",
    "``` conda list -n py3_class ```\n",
    "\n",
    "### 步骤\n",
    "\n",
    "使用PyQt创建一个简单的GUI应用程序通常需要以下步骤：\n",
    "\n",
    "* 利用Qt designer设计GUI的外观，布局和部分功能，其文件的后缀名为.ui\n",
    "* 利用pyuic5工具将.ui文件自动转换成.py的Python代码\n",
    "* 从PyQt5包中导入QtCore，QtGui和QtWidgets模块\n",
    "* 创建一个QApplication类的应用程序对象\n",
    "* 导入步骤2所生成的代码\n",
    "* 写额外的Python程序完善和丰富GUI的功能\n",
    "* 利用app.exec_()方法进入程序的主循环，GUI开始运行\n",
    "\n",
    "### Qt designer\n",
    "\n",
    "#### Qt designer的位置：\n",
    "\n",
    "如果PyQt安装到了某个虚拟环境下，Qt designer在该虚拟环境下的\\Library\\bin文件夹下：\n",
    "\n",
    "``` D:\\ProgramData\\miniconda3\\envs\\py3_class\\Library\\bin\\designer.exe ```\n",
    "\n",
    "如果安装miniconda时选择了仅限于当前用户使用，Qt designer位于：\n",
    "\n",
    "``` C:\\Users\\Feng Chen\\.conda\\envs\\py3_class\\Library\\bin\\designer.exe ```\n",
    "\n",
    "\n",
    "双击designer.exe，将出现一个对话框并提供了五个模板供选择：\n",
    "\n",
    "<img src=\"./img/qtdesigner.jpg\"/>\n",
    "\n",
    "#### QDialog、QMainWindow 和 QWidget 的区别\n",
    "\n",
    "* QWidget是PyQt5中所有GUI元素的基本单元\n",
    "* QDialog是GUI中常用的对话框，一般用于询问用户如接受和拒绝等\n",
    "* QMainWindow是更大一些的模板，可以在其中放置工具栏，菜单栏，状态栏和其他窗口小部件等\n",
    "\n",
    "在designer的左边有大量的GUI元素可供选择，在选择好模板之后就可以通过鼠标拖动的方式添加各种元素，以一个简单的加法计算器为例：\n",
    "\n",
    "<img src=\"./img/demo.jpg\"/>\n",
    "\n",
    "然后点击保存，所创建的GUI模板将保存为后缀名为.ui的文件。\n"
   ]
  },
  {
   "cell_type": "markdown",
   "metadata": {
    "pycharm": {
     "name": "#%% md\n"
    }
   },
   "source": [
    "### pyuic5工具\n",
    "\n",
    "pyuic5可以将.ui文件自动转换成.py的Python代码文件。pyuic5的位置：\n",
    "\n",
    "``` D:\\ProgramData\\miniconda3\\envs\\py3_class\\Library\\bin\\pyuic5.bat ```\n",
    "\n",
    "将.ui文件自动转换成.py文件：\n",
    "\n",
    "``` pyuic5 demo.ui -o demo.py ```\n",
    "\n",
    "<img src=\"./img/pyuic5.jpg\"/>"
   ]
  },
  {
   "cell_type": "code",
   "execution_count": null,
   "metadata": {},
   "outputs": [],
   "source": [
    "%gui qt\n",
    "\n",
    "import sys\n",
    "from PyQt5.QtCore import *\n",
    "from PyQt5.QtGui import *\n",
    "from PyQt5.QtWidgets import *\n",
    "from pyqt5.demo import Ui_MainWindow\n",
    "\n",
    "class DemoWindow(QMainWindow):\n",
    "\n",
    "    def __init__(self):\n",
    "\n",
    "        super(DemoWindow, self).__init__()\n",
    "\n",
    "        self.ui = Ui_MainWindow()\n",
    "\n",
    "        self.ui.setupUi(self)\n",
    "\n",
    "app = QApplication([])\n",
    "\n",
    "win = DemoWindow()\n",
    "\n",
    "win.show()\n",
    "\n",
    "sys.exit(app.exec())"
   ]
  },
  {
   "cell_type": "markdown",
   "metadata": {},
   "source": [
    "### signal和slots\n",
    "\n",
    "基于GUI的应用程序是事件驱动的。函数或者类中的方法的执行是为了响应用户的操作，例如单击按钮、鼠标点击等，称为事件，当一个事件发生时，可以完成指定的动作。\n",
    "\n",
    "简单来讲，一个事件的完成包括三个部分，触发者、连接器和执行者。对于触发者其触发的方式根据widget不同而不同，如下边按钮的触发方式：\n",
    "\n",
    "<img src=\"./img/signal.jpg\"/>\n",
    "\n",
    "比如以上面的demo为例，在没有添加事件之前，我们点击按钮是没有反应的。我们需要执行的任务是计算两个数的和然后在第三个框框中显示出来（可以定一个函数来完成）。\n",
    "\n",
    "Demo中触发者是按钮，触发的方式是点击（clicked），然后我们将其与执行任务的函数连接。当用户点击按钮时，按钮会发送一个信号，由于此按是与执行计算的函数相连接的，因此，此函数将被执行，完成任务。"
   ]
  },
  {
   "cell_type": "code",
   "execution_count": null,
   "metadata": {
    "pycharm": {
     "name": "#%%\n"
    }
   },
   "outputs": [],
   "source": [
    "%gui qt\n",
    "\n",
    "import sys\n",
    "from PyQt5.QtCore import *\n",
    "from PyQt5.QtGui import *\n",
    "from PyQt5.QtWidgets import *\n",
    "from pyqt5.demo import Ui_MainWindow\n",
    "\n",
    "class DemoWindow(QMainWindow):\n",
    "\n",
    "    def __init__(self):\n",
    "\n",
    "        super(DemoWindow, self).__init__()\n",
    "\n",
    "        self.ui = Ui_MainWindow()\n",
    "\n",
    "        self.ui.setupUi(self)\n",
    "\n",
    "        self.ui.pushButton.clicked.connect(self.plus)\n",
    "\n",
    "    def plus(self):\n",
    "        c = float(self.ui.a.text()) + float(self.ui.b.text())\n",
    "        self.ui.result.setText(str(c))\n",
    "\n",
    "app = QApplication([])\n",
    "\n",
    "win = DemoWindow()\n",
    "\n",
    "win.show()\n",
    "\n",
    "sys.exit(app.exec())"
   ]
  },
  {
   "cell_type": "markdown",
   "metadata": {
    "pycharm": {
     "name": "#%% md\n"
    }
   },
   "source": [
    "### File loader\n",
    "\n",
    "点击按钮，打开对话框，选择一个文件，将文件名加载到一个文本框。\n",
    "\n",
    "<img src=\"./img/loader.jpg\"/>"
   ]
  },
  {
   "cell_type": "code",
   "execution_count": null,
   "metadata": {
    "pycharm": {
     "name": "#%%\n"
    }
   },
   "outputs": [],
   "source": [
    "%gui qt\n",
    "\n",
    "import sys\n",
    "from PyQt5.QtCore import *\n",
    "from PyQt5.QtGui import *\n",
    "from PyQt5.QtWidgets import *\n",
    "from pyqt5.loader import Ui_MainWindow\n",
    "\n",
    "class LoaderWindow(QMainWindow):\n",
    "\n",
    "    def __init__(self):\n",
    "\n",
    "        super(LoaderWindow, self).__init__()\n",
    "\n",
    "        self.ui = Ui_MainWindow()\n",
    "\n",
    "        self.ui.setupUi(self)\n",
    "\n",
    "        self.ui.toolButton_File.clicked.connect(self.load)\n",
    "\n",
    "        self.selected_file = ''\n",
    "\n",
    "    def load(self):\n",
    "        selected_file, _ = QFileDialog.getOpenFileName(self, 'Select Numpy data file ...', '',\"Numpy Files(*.npy)\")\n",
    "        self.ui.lineEdit_File.setText(selected_file)\n",
    "        self.selected_file = selected_file # save for later use\n",
    "\n",
    "app = QApplication([])\n",
    "\n",
    "win = LoaderWindow()\n",
    "\n",
    "win.show()\n",
    "\n",
    "sys.exit(app.exec())"
   ]
  },
  {
   "cell_type": "markdown",
   "metadata": {
    "pycharm": {
     "name": "#%% md\n"
    }
   },
   "source": [
    "### Combo Box\n",
    "\n",
    "QLineEdit允许用户输入和编辑信息，QComboBox提供一个供用户选择的列表来选定信息。\n",
    "\n",
    "<img src=\"./img/combo.jpg\"/>"
   ]
  },
  {
   "cell_type": "code",
   "execution_count": null,
   "metadata": {
    "pycharm": {
     "name": "#%%\n"
    }
   },
   "outputs": [],
   "source": [
    "%gui qt\n",
    "\n",
    "import sys\n",
    "from PyQt5.QtCore import *\n",
    "from PyQt5.QtGui import *\n",
    "from PyQt5.QtWidgets import *\n",
    "from pyqt5.combo import Ui_MainWindow\n",
    "\n",
    "class ComboWindow(QMainWindow):\n",
    "\n",
    "    def __init__(self):\n",
    "\n",
    "        super(ComboWindow, self).__init__()\n",
    "\n",
    "        self.ui = Ui_MainWindow()\n",
    "\n",
    "        self.ui.setupUi(self)\n",
    "\n",
    "        self.ui.comboBox.currentIndexChanged.connect(self.getComboData)\n",
    "\n",
    "    def getComboData(self):\n",
    "        text = self.ui.comboBox.currentText()\n",
    "        self.ui.lineEdit.setText(text)\n",
    "\n",
    "app = QApplication([])\n",
    "\n",
    "win = ComboWindow()\n",
    "\n",
    "win.show()\n",
    "\n",
    "sys.exit(app.exec())"
   ]
  },
  {
   "cell_type": "markdown",
   "source": [
    "### 绘图\n",
    "\n",
    "使用matplotlib库，在GUI绘图。"
   ],
   "metadata": {
    "collapsed": false,
    "pycharm": {
     "name": "#%% md\n"
    }
   }
  },
  {
   "cell_type": "code",
   "execution_count": null,
   "outputs": [],
   "source": [
    "%gui qt\n",
    "\n",
    "import sys\n",
    "from PyQt5.QtCore import *\n",
    "from PyQt5.QtGui import *\n",
    "from PyQt5.QtWidgets import *\n",
    "\n",
    "from matplotlib.backends.backend_qt5agg import FigureCanvasQTAgg as FigureCanvas\n",
    "import matplotlib.pyplot as plt\n",
    "\n",
    "from pyqt5.plot import Ui_MainWindow\n",
    "\n",
    "import numpy as np\n",
    "\n",
    "class PlotWindow(QMainWindow):\n",
    "\n",
    "    def __init__(self):\n",
    "\n",
    "        super(PlotWindow, self).__init__()\n",
    "\n",
    "        self.ui = Ui_MainWindow()\n",
    "\n",
    "        self.ui.setupUi(self)\n",
    "\n",
    "        self.ui.pushButton.clicked.connect(self.plot)\n",
    "\n",
    "        # a figure instance to plot on\n",
    "        self.figure = plt.figure()\n",
    "\n",
    "        # this is the Canvas Widget where the figure is placed\n",
    "        self.canvas = FigureCanvas(self.figure)\n",
    "\n",
    "        # add canvas to the layout\n",
    "        self.ui.verticalLayout.addWidget(self.canvas)\n",
    "\n",
    "    def plot(self):\n",
    "        x = np.arange(11)\n",
    "        y = x**2 + 10\n",
    "\n",
    "        # clearing old figure\n",
    "        self.figure.clear()\n",
    "\n",
    "        # create an axis\n",
    "        ax = self.figure.add_subplot(111)\n",
    "\n",
    "        # plot data\n",
    "        ax.plot(x, y, '*-')\n",
    "\n",
    "        # refresh canvas\n",
    "        self.canvas.draw()\n",
    "\n",
    "app = QApplication([])\n",
    "\n",
    "win = PlotWindow()\n",
    "\n",
    "win.show()\n",
    "\n",
    "sys.exit(app.exec())\n",
    "\n"
   ],
   "metadata": {
    "collapsed": false,
    "pycharm": {
     "name": "#%%\n"
    }
   }
  },
  {
   "cell_type": "code",
   "execution_count": null,
   "metadata": {},
   "outputs": [],
   "source": []
  }
 ],
 "metadata": {
  "kernelspec": {
   "display_name": "Python 3",
   "language": "python",
   "name": "python3"
  },
  "language_info": {
   "codemirror_mode": {
    "name": "ipython",
    "version": 3
   },
   "file_extension": ".py",
   "mimetype": "text/x-python",
   "name": "python",
   "nbconvert_exporter": "python",
   "pygments_lexer": "ipython3",
   "version": "3.7.9"
  }
 },
 "nbformat": 4,
 "nbformat_minor": 1
}