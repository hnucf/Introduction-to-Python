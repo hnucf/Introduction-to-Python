{
 "cells": [
  {
   "cell_type": "markdown",
   "metadata": {
    "collapsed": true,
    "pycharm": {
     "name": "#%% md\n"
    }
   },
   "source": [
    "## 数据类型\n",
    "Python主要包括4类基本数据类型，包括整数(integer), 浮点(float), 复数(complex) and 布尔值(booleans)."
   ]
  },
  {
   "cell_type": "code",
   "execution_count": null,
   "metadata": {
    "pycharm": {
     "name": "#%%\n"
    }
   },
   "outputs": [],
   "source": [
    "type(5)"
   ]
  },
  {
   "cell_type": "code",
   "execution_count": null,
   "metadata": {
    "pycharm": {
     "name": "#%%\n"
    }
   },
   "outputs": [],
   "source": [
    "type(3.14)"
   ]
  },
  {
   "cell_type": "code",
   "execution_count": null,
   "metadata": {
    "pycharm": {
     "name": "#%%\n"
    }
   },
   "outputs": [],
   "source": [
    "type(1. + 2.5j)"
   ]
  },
  {
   "cell_type": "code",
   "execution_count": null,
   "metadata": {
    "pycharm": {
     "name": "#%%\n"
    }
   },
   "outputs": [],
   "source": [
    "type(3 > 5)"
   ]
  },
  {
   "cell_type": "markdown",
   "metadata": {},
   "source": [
    "类型转换（type casting）:"
   ]
  },
  {
   "cell_type": "code",
   "execution_count": null,
   "metadata": {
    "pycharm": {
     "name": "#%%\n"
    }
   },
   "outputs": [],
   "source": [
    "a = 1.5\n",
    "a = int(1.5)\n",
    "print(a, type(a))"
   ]
  },
  {
   "cell_type": "code",
   "execution_count": null,
   "metadata": {
    "pycharm": {
     "name": "#%%\n"
    }
   },
   "outputs": [],
   "source": [
    "a = 10\n",
    "b = 2.5\n",
    "c = a / b\n",
    "print(c, type(c))"
   ]
  },
  {
   "cell_type": "code",
   "execution_count": null,
   "metadata": {
    "pycharm": {
     "name": "#%%\n"
    }
   },
   "outputs": [],
   "source": [
    "a = float(\"35.690\")  # str to float\n",
    "print(a, type(a))"
   ]
  },
  {
   "cell_type": "markdown",
   "metadata": {
    "pycharm": {
     "name": "#%% md\n"
    }
   },
   "source": [
    "------\n",
    "\n",
    "## 变量\n",
    "数据保存在变量中。变量是数据的一个名称。在Python中不需要声明变量。值和数据类型都可以在运行时更改。"
   ]
  },
  {
   "cell_type": "code",
   "execution_count": null,
   "metadata": {
    "pycharm": {
     "name": "#%%\n"
    }
   },
   "outputs": [],
   "source": [
    "a = 5\n",
    "b = \"hello world\"\n",
    "print(a, \"has a type of \", type(a))\n",
    "print(b, \"has a type of \", type(b))\n",
    "\n",
    "a = 10\n",
    "b = 12.5\n",
    "print(\"Now 'a' has a value of \", a)\n",
    "print(\"Now 'b' has a type of \", type(b))"
   ]
  },
  {
   "cell_type": "markdown",
   "metadata": {
    "pycharm": {
     "name": "#%% md\n"
    }
   },
   "source": [
    "`a = 5`这个操作后面发生了什么？让我们更深入地研究它。请记住，Python中万物皆为对象（object）。这对于Python语言很重要，并且会在许多方面影响Python的编程方式。整数，浮点数，列表，函数，类等都是对象。Python变量是对对象的引用，但是实际数据是存储在对象中。 因此，对于`a = 5`，将创建一个整数对象`5`并将其分配给名为`a`的变量。整数对象存储在内存中，而`a`只是指向该对象的名称而已。如果我们让`b = a`，那么a和b都指向整数对象5。`b`是整数对象`5`的别名而已。 在[这里](https://www.python-course.eu/python3_variables.php)阅读更多内容。\n",
    "\n",
    "那么请思考，既然`a`和`b`都指向整数`5`，那我改变`b`的值`a`的值会发生变化吗？"
   ]
  },
  {
   "cell_type": "code",
   "execution_count": null,
   "metadata": {
    "pycharm": {
     "name": "#%%\n"
    }
   },
   "outputs": [],
   "source": [
    "a = 10\n",
    "b = a\n",
    "b = 9\n",
    "print(\"a = \", a)\n",
    "print(\"b = \", b)"
   ]
  },
  {
   "cell_type": "markdown",
   "metadata": {
    "pycharm": {
     "name": "#%% md\n"
    }
   },
   "source": [
    "------\n",
    "\n",
    "## 数据结构\n",
    "Python常用的数据结构包括**列表（list）**、**元组（tuple）**、**字典（dictionary）**和**字符串（string）**。\n",
    "\n",
    "### Mutability（变异性）\n",
    "非常重要的一个概念。回到上面的列子，按照正常的逻辑当`b`的值改变后，`a`的值也应该发生变化，因为他们同时指向同一个内存点，改变`b`得值等同于改变了\n",
    "当前内存点所存储的值，那`a`的值也应当变了。"
   ]
  },
  {
   "cell_type": "code",
   "execution_count": null,
   "metadata": {
    "pycharm": {
     "name": "#%%\n"
    }
   },
   "outputs": [],
   "source": [
    "a = 10\n",
    "b = a\n",
    "b = 9\n",
    "print(\"a = \", a)\n",
    "print(\"b = \", b)"
   ]
  },
  {
   "cell_type": "markdown",
   "metadata": {
    "pycharm": {
     "name": "#%% md\n"
    }
   },
   "source": [
    "运行后我们发现`a`的值并没有发生改变。原因就是Python中有两种数据存储的方式：immutable 和 mutable。对于前者，代码中一旦定义后其值将无法改变，除非重新赋值。\n",
    "上述操作过程中当把`a`的值赋给`b`然后改变`b`的值时，因为`a`属于immutable object，Python实际上重新分配一个新的整数类给`b`，其值为`9`。\n",
    "相当于有两个完全独立的整数，占两份内存。稍后我们会学习mutable object，情况完全相反。\n",
    "\n",
    "### 列表（list）\n",
    "\n",
    "用于存储多个或者多维数据。列表的定义方式为`[..., ..., ...]`，由中括号定义，各个元素有逗号分开。切记：列表是mutable object。"
   ]
  },
  {
   "cell_type": "code",
   "execution_count": null,
   "metadata": {
    "pycharm": {
     "name": "#%%\n"
    }
   },
   "outputs": [],
   "source": [
    "a = [1, 2, 3, 4.5, \"James\"]  # contains different data types\n",
    "b = [1, 2, 3, 4.5, \"James\", [10.5, \"David\"]]  # nested list"
   ]
  },
  {
   "cell_type": "markdown",
   "metadata": {
    "pycharm": {
     "name": "#%% md\n"
    }
   },
   "source": [
    "可以通过索引号和切片的办法来访问和改变列表里面各元素的值，并且可以利用自带的函数来对列表进行操作（如增加，删除元素等）。记住Python里面数据结构的索引号从`0`开始，而不是`1`，\n",
    "而且支持负的索引号。"
   ]
  },
  {
   "cell_type": "code",
   "execution_count": null,
   "metadata": {
    "pycharm": {
     "name": "#%%\n"
    }
   },
   "outputs": [],
   "source": [
    "b = [1, 2, 3, 4.5, \"James\", [10.5, \"David\"]]\n",
    "print(b[0])\n",
    "print(b[0:3])\n",
    "print(b[-1])\n",
    "print(b[5][1])\n",
    "b[0] = 100.5\n",
    "b[5][1] = \"James\"\n",
    "print(b)\n",
    "\n",
    "b.extend([1000, 2000, \"hello\"])\n",
    "print(b)\n",
    "b.append([1000, 2000, \"hello\"])\n",
    "print(b)"
   ]
  },
  {
   "cell_type": "markdown",
   "metadata": {
    "pycharm": {
     "name": "#%% md\n"
    }
   },
   "source": [
    "可以使用list comprehension 来方便快捷的创建列表。"
   ]
  },
  {
   "cell_type": "code",
   "execution_count": null,
   "metadata": {
    "pycharm": {
     "name": "#%%\n"
    }
   },
   "outputs": [],
   "source": [
    "print( [i**2 for i in range(10) if i > 3] )  # with condition\n",
    "print( [i * j for i in range(5) for j in range(6) if i > 2 and j < 4] )  # nested\n",
    "print( [[i - j for i in range(3)] for j in range(4)] )  # nested. 4 x 3 matrix"
   ]
  },
  {
   "cell_type": "markdown",
   "metadata": {
    "pycharm": {
     "name": "#%% md\n"
    }
   },
   "source": [
    "来看看列表的变异性。"
   ]
  },
  {
   "cell_type": "code",
   "execution_count": null,
   "metadata": {
    "pycharm": {
     "name": "#%%\n"
    }
   },
   "outputs": [],
   "source": [
    "a = [10]\n",
    "b = a\n",
    "b[0] = 9.5\n",
    "print(\"a = \", a)\n",
    "print(\"b = \", b)"
   ]
  },
  {
   "cell_type": "markdown",
   "metadata": {
    "pycharm": {
     "name": "#%% md\n"
    }
   },
   "source": [
    "### 元组（tuple）\n",
    "\n",
    "用于存储多个或者多维数据。列表的定义方式为`(..., ..., ...)`，由小括号定义，各个元素有逗号分开。切记：列表是immutable object。"
   ]
  },
  {
   "cell_type": "code",
   "execution_count": null,
   "metadata": {
    "pycharm": {
     "name": "#%%\n"
    }
   },
   "outputs": [],
   "source": [
    "a = (1, 2, 3, 4)\n",
    "print(a[2])\n",
    "a[0] = 100.  # you will get an error as tuples are immutable."
   ]
  },
  {
   "cell_type": "markdown",
   "metadata": {
    "pycharm": {
     "name": "#%% md\n"
    }
   },
   "source": [
    "### 字典（dictionary）\n",
    "\n",
    "字典与列表元组相似，有大括号定义，但是每组元素成对出现，前者为键，后者为值，每组元素有逗号分开，键和值由冒号分开。 记住键为immutable object，值为mutable object。\n",
    "某组元素的值有键来访问，而不是索引号。"
   ]
  },
  {
   "cell_type": "code",
   "execution_count": null,
   "metadata": {
    "pycharm": {
     "name": "#%%\n"
    }
   },
   "outputs": [],
   "source": [
    "a = { \"triangle_x\": [1, 5, 9], \"triangle_y\": [7, -5, 4] }\n",
    "print(a[\"triangle_x\"])\n",
    "print(a.keys())\n",
    "print(a.values())\n",
    "\n",
    "b = {(\"a\", \"b\"): 150}  # ok\n",
    "print(b)\n",
    "c = {[\"a\", \"b\"]: 150}  # not ok\n",
    "print(c)"
   ]
  },
  {
   "cell_type": "markdown",
   "metadata": {},
   "source": [
    "字典的comprehension操作:"
   ]
  },
  {
   "cell_type": "code",
   "execution_count": null,
   "metadata": {
    "pycharm": {
     "name": "#%%\n"
    }
   },
   "outputs": [],
   "source": [
    "{ 'ID{:002d}'.format(i): i**2 + i for i in range(6) if i > 2 }"
   ]
  },
  {
   "cell_type": "markdown",
   "metadata": {},
   "source": [
    "### 字符串（String）\n",
    "字符串是immutable object， 通过索引号可访问单个元素。"
   ]
  },
  {
   "cell_type": "code",
   "execution_count": null,
   "metadata": {
    "pycharm": {
     "name": "#%%\n"
    }
   },
   "outputs": [],
   "source": [
    "s = \"Python\"\n",
    "print(s[1])\n",
    "\n",
    "s = s + \" is a general-purpose language.\" + \" It features ......\"\n",
    "print(s)"
   ]
  },
  {
   "cell_type": "markdown",
   "metadata": {},
   "source": [
    "字符串的格式化："
   ]
  },
  {
   "cell_type": "code",
   "execution_count": null,
   "metadata": {
    "pycharm": {
     "name": "#%%\n"
    }
   },
   "outputs": [],
   "source": [
    "s1 = 'value1 = {0:4.2f}, value2 = {1}'.format(3.1415, 1.5)  # new style\n",
    "print(s1)\n",
    "s2 = 'value1 = %4.2f, value2 = %s' % (3.1415, 1.5)  # old style\n",
    "print(s2)"
   ]
  },
  {
   "cell_type": "markdown",
   "metadata": {},
   "source": [
    "字符串的连接： 可以用`+`或者 `\"\".join(list)`函数。前者速度慢、占内存多，后者快，占内存小。"
   ]
  },
  {
   "cell_type": "code",
   "execution_count": null,
   "metadata": {
    "pycharm": {
     "name": "#%%\n"
    }
   },
   "outputs": [],
   "source": [
    "# slow\n",
    "s = \"Python \" + \"is \" + \"a \" + \"general-purpose \" + \"language. \" + \"It \" + \"features \" + \"......\"\n",
    "print(s)\n",
    "\n",
    "# faster\n",
    "s = \" \".join([\"Python\", \"is\", \"a\", \"general-purpose\", \"language.\", \"It\", \"features\", \"......\"])\n",
    "print(s)"
   ]
  },
  {
   "cell_type": "markdown",
   "metadata": {},
   "source": [
    "------\n",
    "\n",
    "## 运算符\n",
    "### 算术运算符\n",
    "|  运算符   | 描述  | 实例  |\n",
    "|  :----  | :----  | :----  |\n",
    "| +  | 加 - 两个对象相加 | a + b |\n",
    "| -  | 减 - 得到负数或是一个数减去另一个数 | a - b |\n",
    "| *  | 乘 - 两个数相乘或是返回一个被重复若干次的字符串 | a * b |\n",
    "| /  | 除 - x除以y | a / b |\n",
    "| %  | 取模 - 返回除法的余数 | a % b |\n",
    "| **  | 幂 - 返回x的y次幂 | a**b |\n",
    "| //  | 取整除 - 返回商的整数部分（向下取整） | a // b |"
   ]
  },
  {
   "cell_type": "code",
   "execution_count": null,
   "metadata": {
    "pycharm": {
     "name": "#%%\n"
    }
   },
   "outputs": [],
   "source": [
    "a = 4\n",
    "b = 2\n",
    "print(a + b)\n",
    "print(a - b)\n",
    "print(a * b)\n",
    "print(a / b)\n",
    "print(a % b)\n",
    "print(a**b)\n",
    "print(a // b)"
   ]
  },
  {
   "cell_type": "markdown",
   "source": [
    "### 比较运算符\n",
    "|  运算符   | 描述  | 实例  |\n",
    "|  :----  | :----  | :----  |\n",
    "| ==  | \t等于 - 比较对象是否相等\t | (a == b) 返回 Ture或者False |\n",
    "| !=  | \t不等于 - 比较两个对象是否不相等 | (a != b) 返回 Ture或者False |\n",
    "| >  | 大于 - 返回x是否大于y | (a > b) 返回 Ture或者False |\n",
    "| <  | 大于 - 返回x是否小于y | (a < b) 返回 Ture或者False |\n",
    "| >=  | 大于等于 - 返回x是否大于等于y | (a >= b) 返回 Ture或者False |\n",
    "| <=  | 小于等于 - 返回x是否小于等于y | (a <= b) 返回 Ture或者False |"
   ],
   "metadata": {
    "collapsed": false
   }
  },
  {
   "cell_type": "code",
   "execution_count": null,
   "outputs": [],
   "source": [
    "a = 4\n",
    "b = 2\n",
    "print(a == b)\n",
    "print(a != b)\n",
    "print(a > b)\n",
    "print(a < b)\n",
    "print(a >= b)\n",
    "print(a <= b)"
   ],
   "metadata": {
    "collapsed": false,
    "pycharm": {
     "name": "#%%\n"
    }
   }
  },
  {
   "cell_type": "markdown",
   "source": [
    "### 赋值运算符\n",
    "|  运算符   | 描述  | 实例  |\n",
    "|  :----  | :----  | :----  |\n",
    "| =  | 简单的赋值运算符，后者赋给前者 | c = a + b 将 a + b 的运算结果赋值为 c |\n",
    "| +=  | 加法赋值 | c += a 等效于 c = c + a |\n",
    "| -=  | 加法赋值 | c -= a 等效于 c = c - a |\n",
    "| *=  | 乘法赋值 | c *= a 等效于 c = c * a |\n",
    "| /=  | 除法赋值 | c /= a 等效于 c = c / a |\n",
    "| %=  | 取模赋值 | c %= a 等效于 c = c % a |\n",
    "| **=  | 幂赋值 | c **= a 等效于 c = c ** a |\n",
    "| //=  | 取整数赋值 | c //= a 等效于 c = c // a |"
   ],
   "metadata": {
    "collapsed": false
   }
  },
  {
   "cell_type": "code",
   "execution_count": null,
   "outputs": [],
   "source": [
    "a = 4; c = 2; c += a; print(c)\n",
    "a = 4; c = 2; c -= a; print(c)\n",
    "a = 4; c = 2; c *= a; print(c)\n",
    "a = 4; c = 2; c /= a; print(c)\n",
    "a = 4; c = 2; c %= a; print(c)\n",
    "a = 4; c = 2; c **= a; print(c)\n",
    "a = 4; c = 2; c //= a; print(c)"
   ],
   "metadata": {
    "collapsed": false,
    "pycharm": {
     "name": "#%%\n"
    }
   }
  },
  {
   "cell_type": "markdown",
   "source": [
    "### 逻辑运算符\n",
    "|  运算符   | 逻辑表达式 | 描述  |\n",
    "|  :----  | :----  | :----  |\n",
    "| and  | x and y | 布尔\"与\" - x和y都为真时返回真，否则返回假 |\n",
    "| or  | x or y | 布尔\"或\" - x或者y有一个为真或者两个都为真时返回真，反之都为假时才返回假 |\n",
    "| not  | not x | 布尔\"非\" - x为真是返回假，x为假时返回真|"
   ],
   "metadata": {
    "collapsed": false
   }
  },
  {
   "cell_type": "code",
   "execution_count": null,
   "outputs": [],
   "source": [
    "x = 0; y = 1; print(x and y)\n",
    "x = 0; y = 1; print(x or y)\n",
    "x = 0; print(not x)"
   ],
   "metadata": {
    "collapsed": false,
    "pycharm": {
     "name": "#%%\n"
    }
   }
  },
  {
   "cell_type": "markdown",
   "source": [
    "### 成员运算符\n",
    "|  运算符   | 描述  | 实例  |\n",
    "|  :----  | :----  | :----  |\n",
    "| in  | 如果在指定的序列中找到值返回 True，否则返回 False | 如果x在y序列中返回真，否则返回假 |\n",
    "| not in  | 如果在指定的序列中没有找到值返回 True，否则返回 False | x 不在 y 序列中 , 如果 x 不在 y 序列中返回 True|"
   ],
   "metadata": {
    "collapsed": false
   }
  },
  {
   "cell_type": "code",
   "execution_count": null,
   "outputs": [],
   "source": [
    "list1 = [1,2,3,4,5]\n",
    "a = 3\n",
    "if a in list1:\n",
    "    print('a is in list1.')\n",
    "else:\n",
    "    print('a is NOT in list1.')"
   ],
   "metadata": {
    "collapsed": false,
    "pycharm": {
     "name": "#%%\n"
    }
   }
  },
  {
   "cell_type": "markdown",
   "source": [
    "### 身份运算符\n",
    "|  运算符   | 描述  | 实例  |\n",
    "|  :----  | :----  | :----  |\n",
    "| is  | is 是判断两个标识符是不是引用自一个对象 | x is y, 如果引用的是同一个对象则返回 True，否则返回 False |\n",
    "| is not | is not 是判断两个标识符是不是引用自不同对象 | x is not y，如果引用的不是同一个对象则返回结果 True，否则返回 False。|"
   ],
   "metadata": {
    "collapsed": false
   }
  },
  {
   "cell_type": "code",
   "execution_count": null,
   "outputs": [],
   "source": [
    "b = 3\n",
    "a = 3\n",
    "c = a\n",
    "print(b is a)\n",
    "print(b is c)\n",
    "print(c is a)"
   ],
   "metadata": {
    "collapsed": false,
    "pycharm": {
     "name": "#%%\n"
    }
   }
  },
  {
   "cell_type": "markdown",
   "metadata": {
    "pycharm": {
     "name": "#%% md\n"
    }
   },
   "source": [
    "## 流程控制\n",
    "### if-elif-else\n",
    "if-elif-else属于逻辑控制语句。当条件为真时执行其包含的语句。Python采用冒号（ : ）和代码缩进来区分代码块之间的层次。\n",
    "\n",
    "在Python中，对于类定义、函数定义、流程控制语句、异常处理语句等，行尾的冒号和下一行的缩进，表示下一个代码块的开始，而缩进的结束则表示此代码块的结束。\n",
    "例如下面代码中，```if a > 10.```这个代码块所包含的语句就只有```print('a > 10.')```这个语句，```elif a < 3.:```为新的一个代码块。"
   ]
  },
  {
   "cell_type": "code",
   "execution_count": null,
   "metadata": {
    "pycharm": {
     "name": "#%%\n"
    }
   },
   "outputs": [],
   "source": [
    "a = 10.\n",
    "if a > 10.:\n",
    "    print('a > 10.')\n",
    "elif a < 3.:\n",
    "    print(\"a < 3.\")\n",
    "else:\n",
    "    print(\"3 =< a <= 10\")"
   ]
  },
  {
   "cell_type": "markdown",
   "metadata": {},
   "source": [
    "### Equality (_==_) 和 identity (_is_)"
   ]
  },
  {
   "cell_type": "code",
   "execution_count": null,
   "metadata": {
    "pycharm": {
     "name": "#%%\n"
    }
   },
   "outputs": [],
   "source": [
    "a = 3\n",
    "b = a\n",
    "print(b == a)\n",
    "print(b is a)\n",
    "print(id(a), id(b))"
   ]
  },
  {
   "cell_type": "code",
   "execution_count": null,
   "metadata": {
    "pycharm": {
     "name": "#%%\n"
    }
   },
   "outputs": [],
   "source": [
    "a = 3  # int\n",
    "b = 3.0  # float\n",
    "print(b == a)\n",
    "print(b is a)\n",
    "print(id(a), id(b))"
   ]
  },
  {
   "cell_type": "code",
   "execution_count": null,
   "metadata": {
    "pycharm": {
     "name": "#%%\n"
    }
   },
   "outputs": [],
   "source": [
    "a = [1, 2, 3]\n",
    "b = a  # here both a and b refer to the list [1, 2, 3]. b is just the alias of list a.\n",
    "print(b == a)\n",
    "print(b is a)\n",
    "print(id(a), id(b))"
   ]
  },
  {
   "cell_type": "code",
   "execution_count": null,
   "metadata": {
    "pycharm": {
     "name": "#%%\n"
    }
   },
   "outputs": [],
   "source": [
    "a = [1, 2, 3]\n",
    "b = a[:]  # note: a copy of list a has been created and b is the name of that copy.\n",
    "print(b == a)\n",
    "print(b is a)\n",
    "print(id(a), id(b))"
   ]
  },
  {
   "cell_type": "markdown",
   "metadata": {},
   "source": [
    "### 循环\n",
    "**for loop**\n",
    "\n",
    "`for`循环用于遍历可循环的对象或者序列中的元素, 比如列表和字典。"
   ]
  },
  {
   "cell_type": "code",
   "execution_count": null,
   "metadata": {
    "pycharm": {
     "name": "#%%\n"
    }
   },
   "outputs": [],
   "source": [
    "for name in [\"Adams\", \"James\", 'David']:\n",
    "    print(name)"
   ]
  },
  {
   "cell_type": "markdown",
   "metadata": {},
   "source": [
    "在循环语句中，经常用到索引号。Python中的 `enumerate` 函数可以同时返回索引号和其对应的元素值:"
   ]
  },
  {
   "cell_type": "code",
   "execution_count": null,
   "metadata": {
    "pycharm": {
     "name": "#%%\n"
    }
   },
   "outputs": [],
   "source": [
    "for index, name in enumerate([\"Adams\", \"James\", 'David']):\n",
    "    print(index, name)"
   ]
  },
  {
   "cell_type": "code",
   "execution_count": null,
   "metadata": {
    "pycharm": {
     "name": "#%%\n"
    }
   },
   "outputs": [],
   "source": [
    "d = { \"triangle_x\": [1, 5, 9], \"triangle_y\": [7, -5, 4] }\n",
    "\n",
    "for key, value in d.items():\n",
    "    print(\" \".join([key, \"=\", str(value)]))"
   ]
  },
  {
   "cell_type": "markdown",
   "metadata": {},
   "source": [
    "**while-break-continue**"
   ]
  },
  {
   "cell_type": "code",
   "execution_count": null,
   "metadata": {
    "pycharm": {
     "name": "#%%\n"
    }
   },
   "outputs": [],
   "source": [
    "a = 5\n",
    "while a > 0:\n",
    "    print(a)\n",
    "    a -= 1"
   ]
  },
  {
   "cell_type": "code",
   "execution_count": null,
   "metadata": {
    "pycharm": {
     "name": "#%%\n"
    }
   },
   "outputs": [],
   "source": [
    "a = 5\n",
    "while a > 0:\n",
    "    print(a)\n",
    "    a -= 1\n",
    "    if a < 3:\n",
    "        break"
   ]
  },
  {
   "cell_type": "code",
   "execution_count": null,
   "metadata": {
    "pycharm": {
     "name": "#%%\n"
    }
   },
   "outputs": [],
   "source": [
    "a = 5\n",
    "while a > 0:\n",
    "    a -= 1\n",
    "    if a < 3:\n",
    "        continue\n",
    "    print(a)"
   ]
  },
  {
   "cell_type": "markdown",
   "metadata": {},
   "source": [
    "------\n",
    "\n",
    "## 函数\n",
    "### 内置函数\n",
    "Python自带的函数：[here](https://docs.python.org/3/library/functions.html). 在满足需求的条件下，尽量选用Python的自带函数，因为它们的性能基本上接近C。比如下面的例子："
   ]
  },
  {
   "cell_type": "code",
   "execution_count": null,
   "outputs": [],
   "source": [
    "# slow\n",
    "old_list = 10000 * ['a']\n",
    "new_list = []\n",
    "\n",
    "\n",
    "def func():\n",
    "    for word in old_list:\n",
    "        new_list.append(word.upper())\n",
    "\n",
    "\n",
    "%timeit func()"
   ],
   "metadata": {
    "collapsed": false,
    "pycharm": {
     "name": "#%%\n"
    }
   }
  },
  {
   "cell_type": "code",
   "execution_count": null,
   "outputs": [],
   "source": [
    "# faster\n",
    "old_list = 10000 * ['a']\n",
    "%timeit new_list = map(str.upper, old_list)"
   ],
   "metadata": {
    "collapsed": false,
    "pycharm": {
     "name": "#%%\n"
    }
   }
  },
  {
   "cell_type": "markdown",
   "source": [
    "### 自定义函数\n",
    "Python中函数的定义用关键字 `def`，加以函数名、参数`()`和冒号`:`。函数的主体语句则必须缩进。当缩进结束时，函数的定义也相应结束。\n",
    "如需返回值可用`return` 表达式，如不提供`return`表达式，则默认返回`None`。"
   ],
   "metadata": {
    "collapsed": false
   }
  },
  {
   "cell_type": "code",
   "execution_count": null,
   "outputs": [],
   "source": [
    "def my_sum(a, b, c=1.):\n",
    "    \"\"\" Summation of a, b and c \"\"\"\n",
    "    return a + b + c\n",
    "\n",
    "\n",
    "my_sum(10.1, 2, 6.)"
   ],
   "metadata": {
    "collapsed": false,
    "pycharm": {
     "name": "#%%\n"
    }
   }
  },
  {
   "cell_type": "markdown",
   "source": [
    "#### docstring\n",
    "_docstring_ 是函数的文档介绍，用来描述函数的作用和用法，每个函数都应写好介绍文档，方便自己和他人阅读。 其定义用 `\"\"\" \"\"\"`，  可用函数的`__doc__`属性函数查看内容，或者使用 `help` 自带函数查看。"
   ],
   "metadata": {
    "collapsed": false
   }
  },
  {
   "cell_type": "code",
   "execution_count": null,
   "outputs": [],
   "source": [
    "def my_sum(a, b, c=1.):\n",
    "    \"\"\"\n",
    "    Summation of a, b and c.\n",
    "    arg c is optional.\n",
    "    \"\"\"\n",
    "    return a + b + c\n",
    "\n",
    "\n",
    "# to view docstring\n",
    "print(my_sum.__doc__)\n",
    "\n",
    "# or\n",
    "help(my_sum)"
   ],
   "metadata": {
    "collapsed": false,
    "pycharm": {
     "name": "#%%\n"
    }
   }
  },
  {
   "cell_type": "markdown",
   "source": [
    "#### 参数\n",
    "\n",
    "一个函数可以接收一定的参数作为输入，然后进行一定的运算，最后输出结果。"
   ],
   "metadata": {
    "collapsed": false
   }
  },
  {
   "cell_type": "code",
   "execution_count": null,
   "outputs": [],
   "source": [
    "def my_sum(a, b, c):\n",
    "    return a + b + c\n",
    "\n",
    "\n",
    "print(my_sum(10.1, 2, 6.))"
   ],
   "metadata": {
    "collapsed": false,
    "pycharm": {
     "name": "#%%\n"
    }
   }
  },
  {
   "cell_type": "markdown",
   "source": [
    "* 普通参数和默认参数"
   ],
   "metadata": {
    "collapsed": false
   }
  },
  {
   "cell_type": "code",
   "execution_count": null,
   "outputs": [],
   "source": [
    "def my_sum(a, b=0., c=1.):\n",
    "    return a + b + c\n",
    "\n",
    "print(my_sum(10.1, 2., 6.))  # don't use default values\n",
    "print(my_sum(10.1, b=2., c=6.))  # don't use default values and use keyword style for b and c\n",
    "print(my_sum(10.1))  # here we use the default values of b and c\n",
    "print(my_sum(10.1, 3.))  # here we just use the default values of c\n",
    "print(my_sum(10.1, c=6.))  # here we just use the default values of b. The keyword style is used for parameter c.\n"
   ],
   "metadata": {
    "collapsed": false,
    "pycharm": {
     "name": "#%%\n"
    }
   }
  },
  {
   "cell_type": "markdown",
   "source": [
    "* 任意个数的参数:\n",
    "\n",
    "在许多情况下，函数参数的确切数目是事先未知的，或者在不同情况中的调用会变化。 Python函数通过在参数名称的前面加一个单个星号(*)来接受任意数量的参数。 所有参数都打包到一个元组对象（所谓的打包），然后传递给函数。 请参阅以下示例："
   ],
   "metadata": {
    "collapsed": false
   }
  },
  {
   "cell_type": "code",
   "execution_count": null,
   "outputs": [],
   "source": [
    "def my_sum(*args):\n",
    "    print(type(args))\n",
    "    tot = 0.\n",
    "    for i in args:\n",
    "        tot += i\n",
    "    return tot\n",
    "\n",
    "\n",
    "print(my_sum(1, 2, 3, 4, 5, 6))\n",
    "print(my_sum(1, 2, 3, 4, 5, 6, 7, 8, 9, 10))"
   ],
   "metadata": {
    "collapsed": false,
    "pycharm": {
     "name": "#%%\n"
    }
   }
  },
  {
   "cell_type": "markdown",
   "source": [
    "如上所示，所有数字都作为单独的参数传递给函数，当参数数量很大时，此方法将非常繁琐。 如果所有数字都打包到列表中并将该列表传递给函数呢？ 可以先加一个星号在列表前面然后传递给函数，这就是所谓的“拆包”，先拆包在打包。"
   ],
   "metadata": {
    "collapsed": false
   }
  },
  {
   "cell_type": "code",
   "execution_count": null,
   "outputs": [],
   "source": [
    "def my_sum(*args):\n",
    "    print(type(args))\n",
    "    tot = 0.\n",
    "    for i in args:\n",
    "        tot += i\n",
    "    return tot\n",
    "\n",
    "\n",
    "my_list = [1, 2, 3, 4, 5, 6, 7, 8, 9, 10]\n",
    "# my_sum(my_list)  # not OK\n",
    "my_sum(*my_list)  # OK"
   ],
   "metadata": {
    "collapsed": false,
    "pycharm": {
     "name": "#%%\n"
    }
   }
  },
  {
   "cell_type": "markdown",
   "source": [
    "* 任意数量的关键字参数\n",
    "\n",
    "要将任意数量的关键字参数传递给Python函数，应在参数名称的前面放置双星号“ **”。 这时参数将以键/值的格式存入字典中，然后提供给函数。"
   ],
   "metadata": {
    "collapsed": false
   }
  },
  {
   "cell_type": "code",
   "execution_count": null,
   "outputs": [],
   "source": [
    "def func(**kwargs):\n",
    "    print(kwargs)\n",
    "    for key, value in kwargs.items():\n",
    "        print(key, ': ', value)\n",
    "\n",
    "\n",
    "func(name='Python', version=3, release=3.6)"
   ],
   "metadata": {
    "collapsed": false,
    "pycharm": {
     "name": "#%%\n"
    }
   }
  },
  {
   "cell_type": "markdown",
   "source": [
    "以上三种方式可以混合着用，功能非常强大。"
   ],
   "metadata": {
    "collapsed": false
   }
  },
  {
   "cell_type": "code",
   "execution_count": null,
   "outputs": [],
   "source": [
    "def func(arg1, arg2, arg3, *args, **kwargs):\n",
    "    print('arg1', ' = ', arg1)\n",
    "    print('arg2', ' = ', arg2)\n",
    "    print('arg3', ' = ', arg3)\n",
    "    print(args)\n",
    "    print(kwargs)\n",
    "    for key, value in kwargs.items():\n",
    "        print(key, ': ', value)\n",
    "\n",
    "\n",
    "func(10, 20, 30, 40, 50, 60, [1., 2., 3.], *[4., 5., 6.], name='Python', version=3, release=3.8)"
   ],
   "metadata": {
    "collapsed": false,
    "pycharm": {
     "name": "#%%\n"
    }
   }
  },
  {
   "cell_type": "markdown",
   "source": [
    "### 函数作为参数\n",
    "\n",
    "在数学中，经常发生将函数用作另一个函数的参数的情况。例如，对于数学函数$ f（x）$，$ f（x）$的一阶导数为：$$ f'(x)\\approx\\lim_{h \\to0} \\frac{f(x + h)-f(x)}{h} $$\n",
    "\n",
    "这里我们有两个函数$ f(x)$和$ f'(x)$，而$ f(x)$是$ f'(x)$的参数之一。 以抛物线为例：$$ f(x)= -x ^ 2 + 4x-3$$\n",
    "\n",
    "要将这两个函数转换为Python代码，首先我们需要编写一个Python函数来表示$ f(x)$："
   ],
   "metadata": {
    "collapsed": false
   }
  },
  {
   "cell_type": "code",
   "execution_count": null,
   "outputs": [],
   "source": [
    "def f(x):\n",
    "    return -x**2 + 4*x - 3"
   ],
   "metadata": {
    "collapsed": false,
    "pycharm": {
     "name": "#%%\n"
    }
   }
  },
  {
   "cell_type": "markdown",
   "source": [
    "然后编写一个Python函数（例如$ diff1 $）以计算其一阶导数$ f(x)$。 请记住，在将数学函数转换为编程代码之前，一种好的编程习惯是该代码应尽可能通用，并可以在许多不同的场景下使用。对于此例子，我们可以使用$ diff1 $函数来计算任何$ f（x）$的导数。"
   ],
   "metadata": {
    "collapsed": false
   }
  },
  {
   "cell_type": "code",
   "execution_count": null,
   "outputs": [],
   "source": [
    "def diff1(f, x, h=1E-8):\n",
    "    dif = (f(x + h) - f(x)) / h\n",
    "    return dif"
   ],
   "metadata": {
    "collapsed": false,
    "pycharm": {
     "name": "#%%\n"
    }
   }
  },
  {
   "cell_type": "markdown",
   "source": [
    "上面的代码不仅接受$ f(x)$的任何类型，而且使代码非常接近数学公式的形式，增加了可读性。让我们计算$ f(x)$在$ x = 1 $处的一阶导数的解析解，其答案为$ f'(1) = 2 $，而上述Python函数提供的答案为$f'(1)\\approx$："
   ],
   "metadata": {
    "collapsed": false
   }
  },
  {
   "cell_type": "code",
   "execution_count": null,
   "outputs": [],
   "source": [
    "diff1(f, 1)"
   ],
   "metadata": {
    "collapsed": false,
    "pycharm": {
     "name": "#%%\n"
    }
   }
  },
  {
   "cell_type": "markdown",
   "source": [
    "非常好，非常接近解析解。从数学上讲，随着$ h $越来越小，结果变得越来越精确。但是由于浮点误差，在计算机上会出现不一样的情况。可以尝试使用较小的$ h $并查看结果如何变化。"
   ],
   "metadata": {
    "collapsed": false
   }
  },
  {
   "cell_type": "markdown",
   "source": [
    "------\n",
    "\n",
    "## 类（class）\n",
    "\n",
    "在前面的部分中，我们已经看到字典和列表等可用于将数据存储起来，而函数可通过对多个语句和表达式来对这些存储的数据进行操作和处理。类是面向对象编程（OOP）的核心，用于定义对象的基本属性（数据）和用于改变这些属性的一些方法（函数）。简单来讲，一个类的定义中包含数据和用于处理这些数据的函数。\n",
    "\n",
    "在Python中，类也是用户自定义一种对象类型，类似于诸如整数，列表和函数的内置类型。 其定义相当于时制定了一个模板，该模板描述了类代表什么对象、包含哪些数据以及可用于操作数据的方法。在定义好类之后，我们可以创建一个对象来表示一个具体的对象，我们将其称为类的实例化。\n",
    "\n",
    "在Python中，类的定义如下："
   ],
   "metadata": {
    "collapsed": false
   }
  },
  {
   "cell_type": "code",
   "execution_count": null,
   "outputs": [],
   "source": [
    "# Define a class\n",
    "class Rectangular:\n",
    "    \"\"\" A simple class to represent rectangular \"\"\"\n",
    "    width = 10.  # Attribute 1\n",
    "    height = 5.  # Attribute 2\n",
    "    color = 'blue'  # Attribute 3\n",
    "\n",
    "    # Method: area\n",
    "    def area(self):\n",
    "        return self.width * self.height\n",
    "\n",
    "    # Method: get_color\n",
    "    def get_color(self):\n",
    "        return self.color\n",
    "\n",
    "\n",
    "print(type(Rectangular()))"
   ],
   "metadata": {
    "collapsed": false,
    "pycharm": {
     "name": "#%%\n"
    }
   }
  },
  {
   "cell_type": "markdown",
   "source": [
    "我们定义了一个名为Rectangular的类来表示矩形对象。它包含三个用于存储数据的变量（“ width”，“ height”和“ color”）以及两个用于操作这三个数据的函数（“ area”和“ get_color”）。 在Python类中，我们将变量称为属性，将函数称为方法。该方法的第一个参数始终是“ self”，这对于普通的Python类方法是必需的，泛指对象本身。在调用类方法时，无需传递此参数。\n",
    "\n",
    "到目前为止，我们只是定义了一个类，从未使用过它。一般通过实例化来创建一个对象："
   ],
   "metadata": {
    "collapsed": false
   }
  },
  {
   "cell_type": "code",
   "execution_count": null,
   "outputs": [],
   "source": [
    "# Create an rectangular object\n",
    "rect = Rectangular()  # rect is now an instance of class Rectangular\n",
    "\n",
    "# To access its attributes, use the dot notation:\n",
    "print('The width is: ', rect.width)\n",
    "\n",
    "# To access its method:\n",
    "area_of_rect = rect.area()\n",
    "print('The area is: ', area_of_rect)\n",
    "\n",
    "# To modify its attribute\n",
    "rect.height = 20.\n",
    "\n",
    "# Check its area\n",
    "area_of_rect = rect.area()\n",
    "print('The new area is: ', area_of_rect)"
   ],
   "metadata": {
    "collapsed": false,
    "pycharm": {
     "name": "#%%\n"
    }
   }
  },
  {
   "cell_type": "markdown",
   "source": [
    "### 特殊方法\n",
    "\n",
    "除了上述普通的方法外（area()和get_color()），Python类还有几种特殊的方法，它们在名称前后都有双下划线（例如`__init__`和`__call__`）。 `__init __()`是一种特殊方法（也称为类的初始化函数），每当创建此类的新实例时都会自动调用该方法。 __init __（）始终是类的第一个方法，用于初始化类的属性，请参见以下示例："
   ],
   "metadata": {
    "collapsed": false
   }
  },
  {
   "cell_type": "code",
   "execution_count": null,
   "outputs": [],
   "source": [
    "# Define a class\n",
    "class Rectangular:\n",
    "    \"\"\" A simple class to represent rectangular \"\"\"\n",
    "\n",
    "    def __init__(self, width, height, color='blue'):\n",
    "        print('__init__() is called.')\n",
    "        self.width, self.height, self.color = width, height, color  # Attribute 1, 2 and 3\n",
    "\n",
    "    # Method: area\n",
    "    def area(self):\n",
    "        return self.width * self.height\n",
    "\n",
    "    # Method: get_color\n",
    "    def get_color(self):\n",
    "        return self.color"
   ],
   "metadata": {
    "collapsed": false,
    "pycharm": {
     "name": "#%%\n"
    }
   }
  },
  {
   "cell_type": "markdown",
   "source": [
    "`__init__`方法用于初始化实例的属性，例如："
   ],
   "metadata": {
    "collapsed": false
   }
  },
  {
   "cell_type": "code",
   "execution_count": null,
   "outputs": [],
   "source": [
    "# Create an rectangular object that has a width of 100, a height of 200 and red color\n",
    "rect1 = Rectangular(100., 200., 'red')  # rect is now an instance of class Rectangular\n",
    "\n",
    "# To access its attributes, use the dot operator:\n",
    "print('The color of rect1 is: ', rect1.color)\n",
    "\n",
    "# Create an rectangular object that has a width of 1000, a height of 2000 and white color\n",
    "rect2 = Rectangular(100., 2000., 'white')  # rect is now an instance of class Rectangular\n",
    "\n",
    "# To access its attributes, use the dot operator:\n",
    "print('The color of rect2 is: ', rect2.color)"
   ],
   "metadata": {
    "collapsed": false,
    "pycharm": {
     "name": "#%%\n"
    }
   }
  },
  {
   "cell_type": "markdown",
   "source": [
    "Python类中的`__call __()`方法是为实现一个函数调用运算符，该运算符允许将该类的实例作为一个函数来调用。简单来时就是将类函数化，类本身是不能像函数一样被调用的，但加了此方法后，类也可像函数一样被调用。请参阅以下示例："
   ],
   "metadata": {
    "collapsed": false
   }
  },
  {
   "cell_type": "code",
   "execution_count": null,
   "outputs": [],
   "source": [
    "class A:\n",
    "    def __init__(self):\n",
    "        pass\n",
    "\n",
    "class B:\n",
    "    def __init__(self):\n",
    "        pass\n",
    "\n",
    "    def __call__(self):\n",
    "        print('__call__ method invoked')\n",
    "\n",
    "# create instances\n",
    "a = A()\n",
    "b = B()"
   ],
   "metadata": {
    "collapsed": false,
    "pycharm": {
     "name": "#%%\n"
    }
   }
  },
  {
   "cell_type": "markdown",
   "source": [
    "Now let's call instance `a`:"
   ],
   "metadata": {
    "collapsed": false
   }
  },
  {
   "cell_type": "code",
   "execution_count": null,
   "outputs": [],
   "source": [
    "a()"
   ],
   "metadata": {
    "collapsed": false,
    "pycharm": {
     "name": "#%%\n"
    }
   }
  },
  {
   "cell_type": "markdown",
   "source": [
    "Call instance `b`:"
   ],
   "metadata": {
    "collapsed": false
   }
  },
  {
   "cell_type": "code",
   "execution_count": null,
   "outputs": [],
   "source": [
    "b()"
   ],
   "metadata": {
    "collapsed": false,
    "pycharm": {
     "name": "#%%\n"
    }
   }
  },
  {
   "cell_type": "markdown",
   "source": [
    "### 内置方法\n",
    "\n",
    "除用户定义的属性和方法外，当定义一个类时，许多内置属性会自动创建到该类中。"
   ],
   "metadata": {
    "collapsed": false
   }
  },
  {
   "cell_type": "code",
   "execution_count": null,
   "outputs": [],
   "source": [
    "print(\"Rectangular.__dict__: \", Rectangular.__dict__)  # __dict__: store all attributes and methods of the class\n",
    "print(\"Rectangular.__doc__: \", Rectangular.__doc__)  # __doc__ is the class documentation\n",
    "print(\"Rectangular.__name__: \", Rectangular.__name__)  # __name__: the name of the class\n",
    "print(\"Rectangular.__module__: \", Rectangular.__module__)  # __module__: the module name in which the class is defined\n",
    "print(\"Rectangular.__bases__: \", Rectangular.__bases__)  # __bases__: a tuple containing base classes of a class object"
   ],
   "metadata": {
    "collapsed": false,
    "pycharm": {
     "name": "#%%\n"
    }
   }
  },
  {
   "cell_type": "markdown",
   "source": [
    "------\n",
    "\n",
    "## 模块和包\n",
    "\n",
    "\n",
    "1208/5000\n",
    "计算机编程的一个好习惯是重用代码并避免重复（不要重复自己！）。\n",
    "\n",
    "模块化编程是将程序细分为单独的子程序和模块的过程。程序中的模块是单独的组件，每个组件都有特定的功能，可以用于不同的应用程序或在一个程序中的不同位置重复使用。将程序化分为多个具有不同功能的模块，可以大大提高代码的可读性，可重用性和可维护性。\n",
    "\n",
    "Python支持从较低级别（例如功能和类）到较高级别（例如模块和包）的不同级别的模块化编程。Python模块用于将某个功能的相关变量，函数和类组合起来并存放在单个`.py`文件中。简而言之，Python模块是扩展名为.py的文件，可以在其中定义几个变量，函数和类，这些变量，函数和类可以组合在一起以实现特定功能。不同模块之间相互之间一般没有关联性。\n",
    "\n",
    "每个模块都有其自己的名称空间，因此您可以定义两个具有相同名称的函数/类，只要它们位于不同的模块中即可。要从另一个Python文件访问模块的属性，请使用ʻimport`语句。请参阅以下示例：\n",
    "\n"
   ],
   "metadata": {
    "collapsed": false
   }
  },
  {
   "cell_type": "code",
   "execution_count": null,
   "outputs": [],
   "source": [
    "%%file misc\\mymodule.py\n",
    "\n",
    "\"\"\" Simple module file \"\"\"\n",
    "\n",
    "para = 1.0\n",
    "\n",
    "\n",
    "def myfunc():\n",
    "    print('myfunc in mymodule.')\n",
    "\n",
    "\n",
    "class MyClass:\n",
    "    def __init__(self):\n",
    "        print('MyClass in mymodule.')"
   ],
   "metadata": {
    "collapsed": false,
    "pycharm": {
     "name": "#%%\n"
    }
   }
  },
  {
   "cell_type": "code",
   "execution_count": null,
   "outputs": [],
   "source": [
    "from misc import mymodule\n",
    "\n",
    "print(mymodule.para)\n",
    "mymodule.myfunc()\n",
    "myclass = mymodule.MyClass()"
   ],
   "metadata": {
    "collapsed": false,
    "pycharm": {
     "name": "#%%\n"
    }
   }
  },
  {
   "cell_type": "markdown",
   "source": [
    "Python软件包是包含模块的文件夹。因此，它只是模块的集合，而模块是变量，函数和类的集合。如果创建一个文件夹并将模块文件放入其中，Python将不会知道该目录是Python的包。作为Python程序中的一个包，必须在包目录中放置一个__init__.py文件。该文件告诉Python它是一个包。要访问其中的模块，也可以使用ʻimport`语句。请参阅以下示例："
   ],
   "metadata": {
    "collapsed": false
   }
  },
  {
   "cell_type": "code",
   "execution_count": null,
   "outputs": [],
   "source": [
    "from mypkg import mymodule1\n",
    "from mypkg import mymodule2\n",
    "\n",
    "print(mymodule1.para)\n",
    "mymodule1.myfunc()\n",
    "\n",
    "print('\\n')  # new line\n",
    "\n",
    "print(mymodule2.para)\n",
    "mymodule2.myfunc()\n"
   ],
   "metadata": {
    "collapsed": false,
    "pycharm": {
     "name": "#%%\n"
    }
   }
  },
  {
   "cell_type": "markdown",
   "source": [
    "------\n",
    "\n",
    "### More reading\n",
    "* [Scipy lectures - introduction to Python language](https://www.scipy-lectures.org/intro/language/python_language.html)"
   ],
   "metadata": {
    "collapsed": false
   }
  }
 ],
 "metadata": {
  "kernelspec": {
   "display_name": "Python 3",
   "language": "python",
   "name": "python3"
  },
  "language_info": {
   "codemirror_mode": {
    "name": "ipython",
    "version": 3
   },
   "file_extension": ".py",
   "mimetype": "text/x-python",
   "name": "python",
   "nbconvert_exporter": "python",
   "pygments_lexer": "ipython3",
   "version": "3.8.5"
  }
 },
 "nbformat": 4,
 "nbformat_minor": 1
}